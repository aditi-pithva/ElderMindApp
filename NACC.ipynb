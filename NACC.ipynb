{
 "cells": [
  {
   "cell_type": "code",
   "execution_count": 3,
   "id": "14131fdf-7008-4d64-843b-a155838e5dcf",
   "metadata": {},
   "outputs": [],
   "source": [
    "import pandas as pd"
   ]
  },
  {
   "cell_type": "code",
   "execution_count": 2,
   "id": "a43922d3-9c1d-4b2d-811c-0e96791ae8b6",
   "metadata": {},
   "outputs": [],
   "source": [
    "# data = pd.read_csv('commercial_nacc69.csv', low_memory=False)"
   ]
  },
  {
   "cell_type": "code",
   "execution_count": 3,
   "id": "2009bf59-0616-40f9-ab98-9a708059183d",
   "metadata": {},
   "outputs": [],
   "source": [
    "# data.shape"
   ]
  },
  {
   "cell_type": "code",
   "execution_count": 4,
   "id": "b7735bf4-1b34-46cb-a287-67ac9fb4e643",
   "metadata": {},
   "outputs": [],
   "source": [
    "# data.head()"
   ]
  },
  {
   "cell_type": "code",
   "execution_count": 5,
   "id": "70f5db06-ee92-49c5-99ed-56d89d42ec33",
   "metadata": {},
   "outputs": [],
   "source": [
    "# data.columns"
   ]
  },
  {
   "cell_type": "code",
   "execution_count": 6,
   "id": "36ca68f9-cca3-4728-abad-f8b14fdb81f9",
   "metadata": {},
   "outputs": [],
   "source": [
    "# data['NACCDAYS']"
   ]
  },
  {
   "cell_type": "code",
   "execution_count": 7,
   "id": "271c967d-e1c3-421a-aab7-2fb6830feb82",
   "metadata": {},
   "outputs": [],
   "source": [
    "# data['NACCAGE'].min()"
   ]
  },
  {
   "cell_type": "code",
   "execution_count": 8,
   "id": "35bf2c8a-5af7-4a3b-8e13-2adb1c28d678",
   "metadata": {},
   "outputs": [],
   "source": [
    "# data['NACCAGE'].max()"
   ]
  },
  {
   "cell_type": "code",
   "execution_count": 9,
   "id": "465524c5-8f58-41a1-8ad6-2a46203d5da5",
   "metadata": {},
   "outputs": [],
   "source": [
    "# data_60plus = data[data[\"NACCAGE\"] >= 60]"
   ]
  },
  {
   "cell_type": "code",
   "execution_count": 10,
   "id": "fcf6cd9a-d520-45c2-a8b9-556d8c8f4a5f",
   "metadata": {},
   "outputs": [],
   "source": [
    "# data_60plus.to_csv(\"nacc_60plus.csv\", index=False)"
   ]
  },
  {
   "cell_type": "code",
   "execution_count": 11,
   "id": "231637af-98bf-4bc7-a1cb-dad4bea12926",
   "metadata": {},
   "outputs": [],
   "source": [
    "# print(f\"Filtered dataset saved. Total records: {len(data_60plus)}\")"
   ]
  },
  {
   "cell_type": "code",
   "execution_count": 4,
   "id": "4efb21ed-3833-4241-bb70-b008a37c38ae",
   "metadata": {},
   "outputs": [],
   "source": [
    "data = pd.read_csv('nacc_60plus.csv', low_memory=False)"
   ]
  },
  {
   "cell_type": "code",
   "execution_count": 5,
   "id": "e1faf15e-d97b-4afd-bfa3-2dc04b15c049",
   "metadata": {},
   "outputs": [
    {
     "data": {
      "text/plain": [
       "(161700, 1024)"
      ]
     },
     "execution_count": 5,
     "metadata": {},
     "output_type": "execute_result"
    }
   ],
   "source": [
    "data.shape"
   ]
  },
  {
   "cell_type": "code",
   "execution_count": 14,
   "id": "f0b06290-39ef-4951-bda1-a61ae2bad0d8",
   "metadata": {},
   "outputs": [
    {
     "data": {
      "text/plain": [
       "60"
      ]
     },
     "execution_count": 14,
     "metadata": {},
     "output_type": "execute_result"
    }
   ],
   "source": [
    "data['NACCAGE'].min()"
   ]
  },
  {
   "cell_type": "code",
   "execution_count": 15,
   "id": "244932cc-58d4-40e2-981c-09ff54e3414a",
   "metadata": {},
   "outputs": [
    {
     "name": "stdout",
     "output_type": "stream",
     "text": [
      "Number of unique patients: 43598\n"
     ]
    }
   ],
   "source": [
    "unique_patients = data[\"NACCID\"].nunique()\n",
    "\n",
    "print(f\"Number of unique patients: {unique_patients}\")"
   ]
  },
  {
   "cell_type": "code",
   "execution_count": 16,
   "id": "76aaf0d2-20cf-44a7-9b21-2f4eba7f9e1f",
   "metadata": {},
   "outputs": [
    {
     "data": {
      "text/plain": [
       "count    161700.000000\n",
       "mean          7.088139\n",
       "std          16.183837\n",
       "min          -4.000000\n",
       "25%          -4.000000\n",
       "50%          -4.000000\n",
       "75%          23.000000\n",
       "max          88.000000\n",
       "Name: MOCATOTS, dtype: float64"
      ]
     },
     "execution_count": 16,
     "metadata": {},
     "output_type": "execute_result"
    }
   ],
   "source": [
    "data['MOCATOTS'].describe()"
   ]
  },
  {
   "cell_type": "code",
   "execution_count": 17,
   "id": "e3b1e26a-2e40-4515-b8fd-f1f30f2b3d71",
   "metadata": {},
   "outputs": [
    {
     "data": {
      "text/plain": [
       "count    161700.000000\n",
       "mean          7.263055\n",
       "std          16.615256\n",
       "min          -4.000000\n",
       "25%          -4.000000\n",
       "50%          -4.000000\n",
       "75%          23.000000\n",
       "max          99.000000\n",
       "Name: NACCMOCA, dtype: float64"
      ]
     },
     "execution_count": 17,
     "metadata": {},
     "output_type": "execute_result"
    }
   ],
   "source": [
    "data['NACCMOCA'].describe()"
   ]
  },
  {
   "cell_type": "code",
   "execution_count": 18,
   "id": "b619a308-fad3-44cb-aabc-49361574e3ac",
   "metadata": {},
   "outputs": [
    {
     "data": {
      "text/plain": [
       "100363"
      ]
     },
     "execution_count": 18,
     "metadata": {},
     "output_type": "execute_result"
    }
   ],
   "source": [
    "len(data[data['MOCATOTS'] == -4])"
   ]
  },
  {
   "cell_type": "code",
   "execution_count": 19,
   "id": "5731ff56-01a2-42b6-925e-9306d36b98d8",
   "metadata": {},
   "outputs": [
    {
     "data": {
      "text/plain": [
       "1920"
      ]
     },
     "execution_count": 19,
     "metadata": {},
     "output_type": "execute_result"
    }
   ],
   "source": [
    "len(data[data['MOCATOTS'] > 30])"
   ]
  },
  {
   "cell_type": "code",
   "execution_count": 20,
   "id": "b47eb6d4-a002-45d8-97f9-4ca06dee3a6a",
   "metadata": {},
   "outputs": [],
   "source": [
    "# data = data[(data['MOCATOTS'] >= 0) & (data['MOCATOTS'] <= 30)]"
   ]
  },
  {
   "cell_type": "code",
   "execution_count": 21,
   "id": "0e4e31a3-7b51-4728-a1cd-d20ca60a859b",
   "metadata": {},
   "outputs": [],
   "source": [
    "# data['NACCMOCA']"
   ]
  },
  {
   "cell_type": "code",
   "execution_count": 22,
   "id": "371b0ea6-e29b-4a04-91ee-bac6d84df8da",
   "metadata": {},
   "outputs": [
    {
     "data": {
      "text/plain": [
       "100363"
      ]
     },
     "execution_count": 22,
     "metadata": {},
     "output_type": "execute_result"
    }
   ],
   "source": [
    "len(data[data['NACCMOCA'] < 0])"
   ]
  },
  {
   "cell_type": "code",
   "execution_count": 23,
   "id": "aea77702-007b-453f-befb-b074ba903faf",
   "metadata": {},
   "outputs": [
    {
     "data": {
      "text/plain": [
       "count    161700.000000\n",
       "mean          7.365850\n",
       "std          18.166085\n",
       "min          -4.000000\n",
       "25%          -4.000000\n",
       "50%          -4.000000\n",
       "75%          18.000000\n",
       "max          98.000000\n",
       "Name: CRAFTVRS, dtype: float64"
      ]
     },
     "execution_count": 23,
     "metadata": {},
     "output_type": "execute_result"
    }
   ],
   "source": [
    "data['CRAFTVRS'].describe()"
   ]
  },
  {
   "cell_type": "code",
   "execution_count": 24,
   "id": "7d935cc8-8035-46fb-83f9-3fc47d9a3c80",
   "metadata": {},
   "outputs": [
    {
     "data": {
      "text/plain": [
       "92927"
      ]
     },
     "execution_count": 24,
     "metadata": {},
     "output_type": "execute_result"
    }
   ],
   "source": [
    "len(data[data['CRAFTVRS'] == -4])"
   ]
  },
  {
   "cell_type": "code",
   "execution_count": 25,
   "id": "b5b5b750-2f76-4112-9784-a16e4f227977",
   "metadata": {},
   "outputs": [
    {
     "data": {
      "text/plain": [
       "473       96\n",
       "632       97\n",
       "1283      97\n",
       "1291      19\n",
       "1297      97\n",
       "          ..\n",
       "161593    97\n",
       "161601    12\n",
       "161615    23\n",
       "161628    26\n",
       "161660    22\n",
       "Name: CRAFTVRS, Length: 7382, dtype: int64"
      ]
     },
     "execution_count": 25,
     "metadata": {},
     "output_type": "execute_result"
    }
   ],
   "source": [
    "filtered_values = data[(data['MOCATOTS'] == -4) & (data['CRAFTVRS'] > 0)]['CRAFTVRS']\n",
    "filtered_values"
   ]
  },
  {
   "cell_type": "code",
   "execution_count": 26,
   "id": "ff34745a-793a-4739-9d06-0f8c01081ea1",
   "metadata": {},
   "outputs": [
    {
     "data": {
      "text/plain": [
       "100327"
      ]
     },
     "execution_count": 26,
     "metadata": {},
     "output_type": "execute_result"
    }
   ],
   "source": [
    "len(data[data['MOCATRAI'] == -4])"
   ]
  },
  {
   "cell_type": "code",
   "execution_count": 27,
   "id": "526b2c7b-ec86-4ae8-a73f-4ee994da09ed",
   "metadata": {},
   "outputs": [
    {
     "data": {
      "text/plain": [
       "array([0, 1])"
      ]
     },
     "execution_count": 27,
     "metadata": {},
     "output_type": "execute_result"
    }
   ],
   "source": [
    "data['IMPNOMCI'].unique()"
   ]
  },
  {
   "cell_type": "code",
   "execution_count": 28,
   "id": "1b033b92-e40b-4240-a24b-70f6ed2e079a",
   "metadata": {},
   "outputs": [
    {
     "data": {
      "text/plain": [
       "array([0, 1])"
      ]
     },
     "execution_count": 28,
     "metadata": {},
     "output_type": "execute_result"
    }
   ],
   "source": [
    "data['NORMCOG'].unique()"
   ]
  },
  {
   "cell_type": "code",
   "execution_count": 29,
   "id": "1f3344c3-9afe-435c-a5cc-a30bcf5cdfaa",
   "metadata": {},
   "outputs": [
    {
     "data": {
      "text/plain": [
       "0         -4\n",
       "1         -4\n",
       "2         -4\n",
       "3         -4\n",
       "4         -4\n",
       "          ..\n",
       "161695    14\n",
       "161696    14\n",
       "161697    10\n",
       "161698     7\n",
       "161699    -4\n",
       "Name: LOGIMEM, Length: 161700, dtype: int64"
      ]
     },
     "execution_count": 29,
     "metadata": {},
     "output_type": "execute_result"
    }
   ],
   "source": [
    "data['LOGIMEM']"
   ]
  },
  {
   "cell_type": "code",
   "execution_count": 30,
   "id": "f78a394a-fc05-45cf-a83f-a310847065f7",
   "metadata": {},
   "outputs": [
    {
     "data": {
      "text/plain": [
       "82259"
      ]
     },
     "execution_count": 30,
     "metadata": {},
     "output_type": "execute_result"
    }
   ],
   "source": [
    "len(data[data['LOGIMEM'] == -4])"
   ]
  },
  {
   "cell_type": "code",
   "execution_count": 31,
   "id": "8ca32011-bccf-45b6-b91b-bcd0da2df598",
   "metadata": {},
   "outputs": [],
   "source": [
    "# Form A1\n",
    "demographics_features = {\n",
    "    # Age\n",
    "    'age_features': ['NACCAGE'],\n",
    "    \n",
    "    # Gender\n",
    "    'gender_features': ['SEX'],\n",
    "    \n",
    "    # Language \n",
    "    'language_features': ['PRIMLANG'], \n",
    "    \n",
    "    # Handedness\n",
    "    'handedness_features': ['HANDED'] \n",
    "}"
   ]
  },
  {
   "cell_type": "code",
   "execution_count": 32,
   "id": "87af3cb5-489b-4588-98de-09348c61b169",
   "metadata": {},
   "outputs": [
    {
     "data": {
      "text/plain": [
       "2996"
      ]
     },
     "execution_count": 32,
     "metadata": {},
     "output_type": "execute_result"
    }
   ],
   "source": [
    "len(data[data['EDUC'] <7])"
   ]
  },
  {
   "cell_type": "code",
   "execution_count": 33,
   "id": "ae390296-077c-4f99-8445-b95b14fc1036",
   "metadata": {},
   "outputs": [],
   "source": [
    "# Form A5 (filled by patients) and D2 (filled by physician)\n",
    "medical_history_features = {\n",
    "    # Cardiovascular \n",
    "    'cardiovascular': [\n",
    "        'CVHATT', # Heart attack,  \n",
    "        'HATTMULT',  # Heart attack more than once\n",
    "        'CVAFIB', 'AFIBRILL',    # Atrial fibrillation \n",
    "        'CVANGIO', 'ANGIOCP', # Angioplasty\n",
    "        'CVBYPASS',  # Cardiac bypass\n",
    "        'CVCHF',     # Congestive heart failure\n",
    "        'CVANGINA',  # Angina\n",
    "        'CVPACDEF',  # Pacemaker\n",
    "        'CVOTHR'     # Other cardiovascular\n",
    "        'NACCAHTN',  # Blood pressure medication\n",
    "        'DIABET', # Exactyly like questionnaire\n",
    "        'DIABETES', # If absent or present\n",
    "        'DIABTYPE',  # Diabetes type\n",
    "        'NACCDBMD', # Diabetes medication\n",
    "        'CBSTROKE', # Stroke\n",
    "        'STROKMUL', # Stroke more than once\n",
    "        \n",
    "    ],\n",
    "    \n",
    "    # Neurological conditions\n",
    "    'neurological': [\n",
    "        'TBI', 'TBIBRIEF', 'TRAUMBRF', 'TBIEXTEN', 'TRAUMEXT',  # Traumatic brain injury\n",
    "        'SEIZURES',  # Seizure disorder\n",
    "        'APNEA', # Sleep Apnea\n",
    "        'RBD', # Rapid Eye Movement\n",
    "        'INSOMN', # Insomnia\n",
    "        'OTHSLEEP', # Other sleep disorder\n",
    "    ],\n",
    "    \n",
    "    # Other medical conditions\n",
    "    'other_medical': [\n",
    "        'HYPERTEN', 'HYPERT', # Hypertension, \n",
    "        'B12DEF',    # B12 deficiency\n",
    "        'THYROID'    # Thyroid disease\n",
    "        'HYPERCHO',  # Hypercholesterolemia\n",
    "    ]\n",
    "}"
   ]
  },
  {
   "cell_type": "code",
   "execution_count": 98,
   "id": "c8e9bd5e-6470-4ec0-8055-d9918834c4ea",
   "metadata": {},
   "outputs": [
    {
     "data": {
      "text/plain": [
       "AFIBRILL\n",
       "-4.0    80742\n",
       " 0.0    73686\n",
       " 1.0     6945\n",
       " 8.0      326\n",
       "Name: count, dtype: int64"
      ]
     },
     "execution_count": 98,
     "metadata": {},
     "output_type": "execute_result"
    }
   ],
   "source": [
    "data['AFIBRILL'].value_counts()"
   ]
  },
  {
   "cell_type": "code",
   "execution_count": 34,
   "id": "4b166175-1004-4104-ae31-abeda444cbec",
   "metadata": {},
   "outputs": [],
   "source": [
    "cognitive_concerns_features = {\n",
    "    # Memory complaints - B9 questions, B4 values\n",
    "    'memory_concerns': [\n",
    "        'MEMORY', 'MEMPROB',    # Memory complaints\n",
    "        'ORIENT',    # Orientation problems\n",
    "    ],\n",
    "    \n",
    "    # Executive function concerns\n",
    "    'executive_concerns': [\n",
    "        'JUDGMENT',  # Judgment/problem solving\n",
    "    ],\n",
    "\n",
    "    # Language/ Communication Concerns\n",
    "    'language_concerns': [\n",
    "        'COMMUN',    # Communication problems\n",
    "    ],\n",
    "\n",
    "    # Physical Activities Concern\n",
    "    'household_concerns': [\n",
    "        'HOMEHOBB',  # Home/hobbies difficulties\n",
    "    ],\n",
    "\n",
    "    # Personal Care Concerns\n",
    "    'personal_care_concerns': [\n",
    "        'PERSCARE'   # Personal care issues\n",
    "    ]\n",
    "}"
   ]
  },
  {
   "cell_type": "code",
   "execution_count": 35,
   "id": "0ecca5db-3153-419b-a581-5d373b9175cf",
   "metadata": {},
   "outputs": [],
   "source": [
    "functional_features = {\n",
    "    \n",
    "    # FAQ (Functional Activities Questionnaire) - Form B7\n",
    "    'faq_items': [\n",
    "        'BILLS',     # Managing bills/finances\n",
    "        'TAXES',     # Handling taxes\n",
    "        'SHOPPING',  # Shopping\n",
    "        'GAMES',     # Games/hobbiesssssss\n",
    "        'STOVE',     # Kitchen appliances\n",
    "        'MEALPREP',  # Meal preparation\n",
    "        'EVENTS',    # Remembering events\n",
    "        'PAYATTN',   # Paying attention\n",
    "        'REMDATES',  # Remembering dates\n",
    "        'TRAVEL'     # Traveling\n",
    "    ]\n",
    "}"
   ]
  },
  {
   "cell_type": "code",
   "execution_count": 75,
   "id": "7d3a3199-ea12-4986-9d7c-0ec0e168548f",
   "metadata": {},
   "outputs": [],
   "source": [
    "behavioral_features = {\n",
    "    # NPI (Neuropsychiatric Inventory) - Form B5\n",
    "    'npi_symptoms': [\n",
    "        'DEL',  # Delusions\n",
    "        'DELSEV',\n",
    "\n",
    "        'DISINHIB',  # Disinhibition\n",
    "        'DISNSEV',\n",
    "        'IRR',       # Irritability\n",
    "        'IRRSEV',\n",
    "        'ELAT',      # Elation\n",
    "        'ELATSEV',\n",
    "\n",
    "        'ANX',       # Anxiety\n",
    "        'ANXSEV',\n",
    "        'DEPD',      # Depression\n",
    "        'DEPDSEV',\n",
    "\n",
    "        'APA',       # Apathy\n",
    "        'APASEV',\n",
    "        \n",
    "        # 'HALLUC',    # Hallucinations       \n",
    "        'HALLSEV',\n",
    "        'AGIT',      # Agitation\n",
    "        'AGITSEV',\n",
    "\n",
    "        'APP'        # Appetite changes\n",
    "        'APPSEV',\n",
    "\n",
    "        'NITE',      # Nighttime behaviors\n",
    "        'NITESEV'\n",
    "\n",
    "    ],\n",
    "}"
   ]
  },
  {
   "cell_type": "code",
   "execution_count": 37,
   "id": "e89a7ac1-584c-4310-9580-c8e4232f905f",
   "metadata": {},
   "outputs": [],
   "source": [
    "physical_features = {\n",
    "    # Motor symptoms - Form B9\n",
    "    'motor_symptoms': [\n",
    "        'MOGAIT',   # Gait disorder\n",
    "        'MOFALLS',     # Falls\n",
    "        'MOTREM',    # Tremor\n",
    "        'MOSLOW',  # Slowness of movement\n",
    "    ]\n",
    "}"
   ]
  },
  {
   "cell_type": "code",
   "execution_count": 38,
   "id": "e1526483-b199-41ab-8597-58b9a3d0528a",
   "metadata": {},
   "outputs": [],
   "source": [
    "family_history_features = {\n",
    "    # Family history - Form A3\n",
    "    'family_dementia': [\n",
    "        'NACCFAM',\n",
    "        'FADMUT',    # Family dementia mutation\n",
    "        'FADMUTX',   # Specific mutation\n",
    "        'FADMAGE',   # Age of family member diagnosis\n",
    "        'FAADREL',   # Relationship to proband\n",
    "        'FAAGE',     # Family member age at diagnosis\n",
    "    ]\n",
    "}"
   ]
  },
  {
   "cell_type": "code",
   "execution_count": 39,
   "id": "a3bb012a-d45a-4dbe-b3d8-0a3858305694",
   "metadata": {},
   "outputs": [
    {
     "data": {
      "text/plain": [
       "TRAUMCHR\n",
       "-4    80958\n",
       " 0    80035\n",
       " 9      282\n",
       " 2      257\n",
       " 1      168\n",
       "Name: count, dtype: int64"
      ]
     },
     "execution_count": 39,
     "metadata": {},
     "output_type": "execute_result"
    }
   ],
   "source": [
    "data['TRAUMCHR'].value_counts()"
   ]
  },
  {
   "cell_type": "code",
   "execution_count": 40,
   "id": "a8ba3256-dfad-4da2-b062-c710a00987d9",
   "metadata": {},
   "outputs": [],
   "source": [
    "# MEMPROB, DECSUB, DECIN, DECCLIN"
   ]
  },
  {
   "cell_type": "code",
   "execution_count": 41,
   "id": "f7f8096d-0502-47a1-9e81-2d4e9044ad7d",
   "metadata": {},
   "outputs": [],
   "source": [
    "# NACCETPR, NACCCOGF, NACCMOTF"
   ]
  },
  {
   "cell_type": "code",
   "execution_count": 42,
   "id": "298f5692-5d20-4c99-bd7f-9beaa05563ac",
   "metadata": {},
   "outputs": [
    {
     "name": "stdout",
     "output_type": "stream",
     "text": [
      "Total features with missing values: 258\n",
      "HISPORX: 161194 missing values\n",
      "RACEX: 159533 missing values\n",
      "RACESECX: 161336 missing values\n",
      "RACETERX: 161666 missing values\n",
      "PRIMLANX: 159337 missing values\n",
      "INHISPOX: 161500 missing values\n",
      "INRACEX: 160336 missing values\n",
      "INRASECX: 161479 missing values\n",
      "INRATERX: 161649 missing values\n",
      "INRELTOX: 160587 missing values\n",
      "NACCAMX: 137727 missing values\n",
      "NACCAMSX: 137799 missing values\n",
      "NACCFMX: 137797 missing values\n",
      "NACCFMSX: 137816 missing values\n",
      "NACCOMX: 137645 missing values\n",
      "NACCOMSX: 149051 missing values\n",
      "DRUG1: 6187 missing values\n",
      "DRUG2: 13135 missing values\n",
      "DRUG3: 22839 missing values\n",
      "DRUG4: 35541 missing values\n",
      "DRUG5: 50773 missing values\n",
      "DRUG6: 67172 missing values\n",
      "DRUG7: 83582 missing values\n",
      "DRUG8: 99077 missing values\n",
      "DRUG9: 112686 missing values\n",
      "DRUG10: 124164 missing values\n",
      "DRUG11: 133294 missing values\n",
      "DRUG12: 140569 missing values\n",
      "DRUG13: 146037 missing values\n",
      "DRUG14: 150227 missing values\n",
      "DRUG15: 153457 missing values\n",
      "DRUG16: 155783 missing values\n",
      "DRUG17: 157519 missing values\n",
      "DRUG18: 158719 missing values\n",
      "DRUG19: 159589 missing values\n",
      "DRUG20: 160216 missing values\n",
      "DRUG21: 160658 missing values\n",
      "DRUG22: 160998 missing values\n",
      "DRUG23: 161229 missing values\n",
      "DRUG24: 161373 missing values\n",
      "DRUG25: 161479 missing values\n",
      "DRUG26: 161551 missing values\n",
      "DRUG27: 161594 missing values\n",
      "DRUG28: 161630 missing values\n",
      "DRUG29: 161651 missing values\n",
      "DRUG30: 161663 missing values\n",
      "DRUG31: 161667 missing values\n",
      "DRUG32: 161673 missing values\n",
      "DRUG33: 161677 missing values\n",
      "DRUG34: 161681 missing values\n",
      "DRUG35: 161682 missing values\n",
      "DRUG36: 161687 missing values\n",
      "DRUG37: 161692 missing values\n",
      "DRUG38: 161694 missing values\n",
      "DRUG39: 161697 missing values\n",
      "DRUG40: 161697 missing values\n",
      "CVOTHRX: 149123 missing values\n",
      "NCOTHRX: 157286 missing values\n",
      "ARTHTYPX: 161419 missing values\n",
      "OTHSLEEX: 161072 missing values\n",
      "ABUSX: 160719 missing values\n",
      "PSYCDISX: 155252 missing values\n",
      "HEIGHT: 389 missing values\n",
      "WEIGHT: 389 missing values\n",
      "BPSYS: 389 missing values\n",
      "BPDIAS: 389 missing values\n",
      "HRATE: 389 missing values\n",
      "CVDIMAGX: 161184 missing values\n",
      "SPEECHX: 161461 missing values\n",
      "FACEXPX: 161648 missing values\n",
      "TRESTFAX: 161675 missing values\n",
      "TRESTRHX: 161652 missing values\n",
      "TRESTLHX: 161661 missing values\n",
      "TRESTRFX: 161651 missing values\n",
      "TRESTLFX: 161652 missing values\n",
      "TRACTRHX: 161535 missing values\n",
      "TRACTLHX: 161535 missing values\n",
      "RIGDNEX: 161468 missing values\n",
      "RIGDUPRX: 161517 missing values\n",
      "RIGDUPLX: 161520 missing values\n",
      "RIGDLORX: 161481 missing values\n",
      "RIGDLOLX: 161481 missing values\n",
      "TAPSRTX: 160576 missing values\n",
      "TAPSLFX: 160578 missing values\n",
      "HANDMVRX: 160557 missing values\n",
      "HANDMVLX: 160595 missing values\n",
      "HANDATRX: 160441 missing values\n",
      "HANDATLX: 160441 missing values\n",
      "LEGRTX: 160436 missing values\n",
      "LEGLFX: 160426 missing values\n",
      "ARISINGX: 160899 missing values\n",
      "POSTUREX: 161061 missing values\n",
      "GAITX: 160870 missing values\n",
      "POSSTABX: 159816 missing values\n",
      "BRADYKIX: 161416 missing values\n",
      "NPIQINFX: 129014 missing values\n",
      "NORMEXAM: 13 missing values\n",
      "PARKSIGN: 13 missing values\n",
      "RESTTRL: 13 missing values\n",
      "RESTTRR: 13 missing values\n",
      "SLOWINGL: 13 missing values\n",
      "SLOWINGR: 13 missing values\n",
      "RIGIDL: 13 missing values\n",
      "RIGIDR: 13 missing values\n",
      "BRADY: 13 missing values\n",
      "PARKGAIT: 13 missing values\n",
      "POSTINST: 13 missing values\n",
      "CVDSIGNS: 13 missing values\n",
      "CORTDEF: 13 missing values\n",
      "SIVDFIND: 13 missing values\n",
      "CVDMOTL: 13 missing values\n",
      "CVDMOTR: 13 missing values\n",
      "CORTVISL: 13 missing values\n",
      "CORTVISR: 13 missing values\n",
      "SOMATL: 13 missing values\n",
      "SOMATR: 13 missing values\n",
      "POSTCORT: 13 missing values\n",
      "PSPCBS: 13 missing values\n",
      "EYEPSP: 13 missing values\n",
      "DYSPSP: 13 missing values\n",
      "AXIALPSP: 13 missing values\n",
      "GAITPSP: 13 missing values\n",
      "APRAXSP: 13 missing values\n",
      "APRAXL: 13 missing values\n",
      "APRAXR: 13 missing values\n",
      "CORTSENL: 13 missing values\n",
      "CORTSENR: 13 missing values\n",
      "ATAXL: 13 missing values\n",
      "ATAXR: 13 missing values\n",
      "ALIENLML: 13 missing values\n",
      "ALIENLMR: 13 missing values\n",
      "DYSTONL: 13 missing values\n",
      "DYSTONR: 13 missing values\n",
      "MYOCLLT: 13 missing values\n",
      "MYOCLRT: 13 missing values\n",
      "ALSFIND: 13 missing values\n",
      "GAITNPH: 13 missing values\n",
      "OTHNEUR: 13 missing values\n",
      "OTHNEURX: 146459 missing values\n",
      "COGOTHRX: 160420 missing values\n",
      "NACCCGFX: 161315 missing values\n",
      "COGMODEX: 161310 missing values\n",
      "DECAGE: 3 missing values\n",
      "BEOTHRX: 157379 missing values\n",
      "NACCBEFX: 160299 missing values\n",
      "BEMODEX: 160803 missing values\n",
      "MOMODEX: 161304 missing values\n",
      "MMSELANX: 161336 missing values\n",
      "NPSYLANX: 160895 missing values\n",
      "MOCALANX: 68550 missing values\n",
      "RESPOTHX: 513 missing values\n",
      "OTHBIOMX: 158820 missing values\n",
      "OTHMUTX: 161551 missing values\n",
      "FTLDSUBX: 161546 missing values\n",
      "OTHCOGX: 158981 missing values\n",
      "OTHPSYX: 160418 missing values\n",
      "COGOTHX: 151958 missing values\n",
      "COGOTH2X: 160902 missing values\n",
      "COGOTH3X: 161574 missing values\n",
      "CANCER: 1 missing values\n",
      "CANCSITE: 147102 missing values\n",
      "DIABET: 1 missing values\n",
      "MYOINF: 1 missing values\n",
      "CONGHRT: 1 missing values\n",
      "AFIBRILL: 1 missing values\n",
      "HYPERT: 1 missing values\n",
      "ANGINA: 1 missing values\n",
      "HYPCHOL: 1 missing values\n",
      "VB12DEF: 1 missing values\n",
      "THYDIS: 1 missing values\n",
      "ARTH: 1 missing values\n",
      "ARTYPE: 1 missing values\n",
      "ARTYPEX: 160910 missing values\n",
      "ARTUPEX: 1 missing values\n",
      "ARTLOEX: 1 missing values\n",
      "ARTSPIN: 1 missing values\n",
      "ARTUNKN: 1 missing values\n",
      "URINEINC: 1 missing values\n",
      "BOWLINC: 1 missing values\n",
      "SLEEPAP: 1 missing values\n",
      "REMDIS: 1 missing values\n",
      "HYPOSOM: 1 missing values\n",
      "SLEEPOTH: 1 missing values\n",
      "SLEEPOTX: 159272 missing values\n",
      "ANGIOCP: 1 missing values\n",
      "ANGIOPCI: 1 missing values\n",
      "PACEMAKE: 1 missing values\n",
      "HVALVE: 1 missing values\n",
      "ANTIENC: 1 missing values\n",
      "ANTIENCX: 161656 missing values\n",
      "OTHCOND: 1 missing values\n",
      "OTHCONDX: 135405 missing values\n",
      "ADGCGWAS: 786 missing values\n",
      "ADGCEXOM: 786 missing values\n",
      "ADGCRND: 786 missing values\n",
      "ADGCEXR: 786 missing values\n",
      "NGDSGWAS: 786 missing values\n",
      "NGDSEXOM: 786 missing values\n",
      "NGDSWGS: 786 missing values\n",
      "NGDSWES: 786 missing values\n",
      "NGDSGWAC: 786 missing values\n",
      "NGDSEXAC: 786 missing values\n",
      "NGDSWGAC: 786 missing values\n",
      "NGDSWEAC: 786 missing values\n",
      "NACCNCRD: 786 missing values\n",
      "NACCAPOE: 786 missing values\n",
      "NACCNE4S: 786 missing values\n",
      "NPFIXX: 155397 missing values\n",
      "NPTANX: 154643 missing values\n",
      "NPABANX: 142781 missing values\n",
      "NPASANX: 151703 missing values\n",
      "NPTDPANX: 155456 missing values\n",
      "NPHISOX: 152152 missing values\n",
      "NPPATHO: 696 missing values\n",
      "NPPATHOX: 154315 missing values\n",
      "NACCWRI1: 157377 missing values\n",
      "NACCWRI2: 160544 missing values\n",
      "NACCWRI3: 161163 missing values\n",
      "NPFAUT1: 155208 missing values\n",
      "NPFAUT2: 155274 missing values\n",
      "NPFAUT3: 155322 missing values\n",
      "NPFAUT4: 155354 missing values\n",
      "NPNIT: 22456 missing values\n",
      "NPCERAD: 22456 missing values\n",
      "NPADRDA: 22456 missing values\n",
      "NPOCRIT: 22456 missing values\n",
      "NPVOTH: 22456 missing values\n",
      "NPLEWYCS: 22533 missing values\n",
      "NPGENE: 22456 missing values\n",
      "NPFHSPEC: 161463 missing values\n",
      "NPTAUHAP: 22456 missing values\n",
      "NPPRNP: 22456 missing values\n",
      "NPCHROM: 22456 missing values\n",
      "NPPNORM: 23251 missing values\n",
      "NPCNORM: 23249 missing values\n",
      "NPPADP: 23212 missing values\n",
      "NPCADP: 23247 missing values\n",
      "NPPAD: 22837 missing values\n",
      "NPCAD: 23121 missing values\n",
      "NPPLEWY: 23203 missing values\n",
      "NPCLEWY: 23145 missing values\n",
      "NPPVASC: 23145 missing values\n",
      "NPCVASC: 22923 missing values\n",
      "NPPFTLD: 23231 missing values\n",
      "NPCFTLD: 23262 missing values\n",
      "NPPHIPP: 23256 missing values\n",
      "NPCHIPP: 23263 missing values\n",
      "NPPPRION: 23282 missing values\n",
      "NPCPRION: 23286 missing values\n",
      "NPPOTH1: 23233 missing values\n",
      "NPCOTH1: 23182 missing values\n",
      "NPOTH1X: 160216 missing values\n",
      "NPPOTH2: 23280 missing values\n",
      "NPCOTH2: 23286 missing values\n",
      "NPOTH2X: 161324 missing values\n",
      "NPPOTH3: 23287 missing values\n",
      "NPCOTH3: 23292 missing values\n",
      "NPOTH3X: 161598 missing values\n"
     ]
    }
   ],
   "source": [
    "null_counts = data.isnull().sum()\n",
    "null_columns = null_counts[null_counts > 0]\n",
    "\n",
    "print(f\"Total features with missing values: {len(null_columns)}\")\n",
    "\n",
    "for col, count in null_columns.items():\n",
    "    print(f\"{col}: {count} missing values\")"
   ]
  },
  {
   "cell_type": "code",
   "execution_count": 43,
   "id": "c70335b4-ee5d-46a7-a400-0baf2797c7be",
   "metadata": {},
   "outputs": [
    {
     "data": {
      "text/plain": [
       "NACCMDSS\n",
       "3    126974\n",
       "1     34726\n",
       "Name: count, dtype: int64"
      ]
     },
     "execution_count": 43,
     "metadata": {},
     "output_type": "execute_result"
    }
   ],
   "source": [
    "data['NACCMDSS'].value_counts()"
   ]
  },
  {
   "cell_type": "code",
   "execution_count": 44,
   "id": "001683f7-264c-4ab2-b17c-26ef32228359",
   "metadata": {},
   "outputs": [
    {
     "data": {
      "text/plain": [
       "0          1\n",
       "1          1\n",
       "2         88\n",
       "3          1\n",
       "4         88\n",
       "          ..\n",
       "161695    99\n",
       "161696    99\n",
       "161697     1\n",
       "161698     1\n",
       "161699    88\n",
       "Name: NACCETPR, Length: 161700, dtype: int64"
      ]
     },
     "execution_count": 44,
     "metadata": {},
     "output_type": "execute_result"
    }
   ],
   "source": [
    "data['NACCETPR']"
   ]
  },
  {
   "cell_type": "markdown",
   "id": "247d2dc1-be64-42fa-9ce5-936ca3fbfc8b",
   "metadata": {},
   "source": [
    "# Form A1"
   ]
  },
  {
   "cell_type": "code",
   "execution_count": 57,
   "id": "2af0f0ed-709b-40ff-affa-8c6d79b0d42c",
   "metadata": {},
   "outputs": [],
   "source": [
    "demographics_features = {\n",
    "    'subject_demographics' : [\n",
    "        'SEX',\n",
    "        'PRIMLANG',\n",
    "        'EDUC',\n",
    "        'MARISTAT',\n",
    "        'INDEPEND',\n",
    "        'RESIDENC',\n",
    "        'HANDED',\n",
    "        'NACCAGE'\n",
    "    ]\n",
    "}\n",
    "\n",
    " # 'gender': ['SEX'],\n",
    " #    'language': ['PRIMLANG'],\n",
    " #    'education': ['EDUC'],\n",
    " #    'marital_status': ['MARISTAT'],\n",
    " #    'independence': ['INDEPEND'],\n",
    " #    'residence': ['RESIDENC'],\n",
    " #    'handedness': ['HANDED'],\n",
    " #    'age': ['NACCAGE']"
   ]
  },
  {
   "cell_type": "markdown",
   "id": "0321feb3-1dcc-46b8-adf4-65db05e35ee4",
   "metadata": {},
   "source": [
    "# Form A2"
   ]
  },
  {
   "cell_type": "code",
   "execution_count": 58,
   "id": "5c5ab981-0c3c-4b0c-b4ae-d9aff45b079a",
   "metadata": {},
   "outputs": [],
   "source": [
    "co_participant_demograpgics = {\n",
    "    'relationship': [\n",
    "        'INRELTO', \n",
    "        'INKNOWN'\n",
    "    ],\n",
    "    \n",
    "    'living': ['INLIVWTH']\n",
    "}"
   ]
  },
  {
   "cell_type": "markdown",
   "id": "50593b4a-0bc3-46c6-a5e4-9e6be30550af",
   "metadata": {},
   "source": [
    "# Form A3"
   ]
  },
  {
   "cell_type": "code",
   "execution_count": 59,
   "id": "0d8dcc29-c9e9-4465-8098-e56d744492bc",
   "metadata": {},
   "outputs": [],
   "source": [
    "family_history_features = {\n",
    "    'impairement_within_family': ['NACCFAM'],\n",
    "    \n",
    "    'mutation_evidence': [\n",
    "        'NACCFADM',  # AD\n",
    "        'NACCFFTD',  # FTLD\n",
    "        'NACCOM' # Other\n",
    "    ]\n",
    "    \n",
    "}"
   ]
  },
  {
   "cell_type": "markdown",
   "id": "28187042-cdf7-41fb-8765-d196f56d1495",
   "metadata": {},
   "source": [
    "# Form A4"
   ]
  },
  {
   "cell_type": "code",
   "execution_count": 74,
   "id": "f4704c84-c38f-4818-8518-892403cecdb7",
   "metadata": {},
   "outputs": [],
   "source": [
    "medication_features = {\n",
    "    'meds': ['ANYMEDS'],\n",
    "\n",
    "    \"antihypertensive_medications\": [\n",
    "        \"NACCAHTN\",  # any type\n",
    "        \"NACCHTNC\",  # combination therapy\n",
    "        \"NACCACEI\",  # ACE inhibitor\n",
    "        \"NACCAAAS\",  # antiadrenergic agent\n",
    "        \"NACCBETA\",  # beta-blocker\n",
    "        \"NACCCCBS\",  # calcium channel blocker\n",
    "        # \"NACCEIUR\",  # diuretic\n",
    "        \"NACCVASD\",  # vasodilator\n",
    "        \"NACCANGI\"   # angiotensin II inhibitor\n",
    "    ],\n",
    "    \n",
    "    \"lipid_lowering_medications\": [\n",
    "        \"NACCLIPL\"\n",
    "    ],\n",
    "    \n",
    "    \"anti_inflammatory_medications\": [\n",
    "        \"NACCNSD\"  # nonsteroidal anti-inflammatory\n",
    "    ],\n",
    "    \n",
    "    \"anticoagulant_antiplatelet_agents\": [\n",
    "        \"NACCAC\"\n",
    "    ],\n",
    "    \n",
    "    \"psychiatric_medications\": [\n",
    "        \"NACCADEP\",  # antidepressant\n",
    "        \"NACCAPSY\",  # antipsychotic\n",
    "        \"NACCAANX\"   # anxiolytic/sedative/hypnotic\n",
    "    ],\n",
    "    \n",
    "    \"neurological_medications\": [\n",
    "        \"NACCADMD\",  # Alzheimer's medications\n",
    "        \"NACCPDMD\"   # antiparkinson agent\n",
    "    ],\n",
    "    \n",
    "    \"hormone_therapies\": [\n",
    "        \"NACCEMD\",   # estrogen therapy\n",
    "        \"NACCEPMD\"   # estrogen + progestin\n",
    "    ],\n",
    "    \n",
    "    \"diabetes_medications\": [\n",
    "        \"NACCDBMD\"\n",
    "    ]\n",
    "}"
   ]
  },
  {
   "cell_type": "markdown",
   "id": "49945e83-c30f-41c1-a0e9-a021cecb42b6",
   "metadata": {},
   "source": [
    "# Form A5"
   ]
  },
  {
   "cell_type": "code",
   "execution_count": 61,
   "id": "0d252b62-1749-4868-803d-54ea9dc87fb7",
   "metadata": {},
   "outputs": [],
   "source": [
    "health_history_features = {\n",
    "    'smoking': [\n",
    "        'TOBAC30', \n",
    "        'TOBAC100', \n",
    "        'SMOKYRS', \n",
    "        'PACKSPER',  \n",
    "        'QUITSMOK', \n",
    "    ],\n",
    "\n",
    "    'alcohol': [\n",
    "        'ALCOCCAS', \n",
    "        'ALCFREQ'\n",
    "    ],\n",
    "\n",
    "    'cardiovascular': [\n",
    "        'CVHATT',\n",
    "        'HATTMULT',\n",
    "        'CVAFIB',\n",
    "        'CVANGIO',\n",
    "        'CVBYPASS',\n",
    "        'CVPACDEF',\n",
    "        'CVPACE',\n",
    "        'CVCHF',\n",
    "        'CVANGINA',\n",
    "        'CVHVALVE',\n",
    "        'CVOTHR'\n",
    "    ],\n",
    "\n",
    "    'cerebrovascular': [\n",
    "        'CBSTROKE', # Strokes\n",
    "        'STROKMUL', # More than once\n",
    "        'CBTIA', # TIA\n",
    "        'TIAMULT' # More than once\n",
    "    ],\n",
    "\n",
    "    'neurologic_conditions': [\n",
    "        'PD', # Parkinson's Disease\n",
    "        'PDOTHR', # Other parkinsonism disorders\n",
    "        'SEIZURES', \n",
    "        # 'TBI', # Traumatic Brain Injury\n",
    "        # 'TBIBRIEF', # brief loss of consciousness\n",
    "        # 'TBIEXTEN', # extended loss of consciousness — 5 minutes of longer\n",
    "        # 'TBIWOLOS', # sports injuries\n",
    "        'NACCTBI', # history of TBI\n",
    "        'NCOTHR' # other\n",
    "    ],\n",
    "\n",
    "    'other_medical_conditions': [\n",
    "        'DIABETES', 'DIABTYPE',\n",
    "        'HYPERTEN',\n",
    "        'HYPERCHO',\n",
    "        'B12DEF',\n",
    "        'THYROID',\n",
    "        'ARTHRIT', \n",
    "        'ARTHTYPE',\n",
    "        'INCONTU', # Incontinence — urinary\n",
    "        'INCONTF', # Incontinence — bowel\n",
    "        'APNEA',\n",
    "        'RBD',\n",
    "        'INSOMN',\n",
    "        'OTHSLEEP'\n",
    "    ],\n",
    "\n",
    "    'substance_abuse': [\n",
    "        'ALCOHOL',\n",
    "        'ABUSOTHR'\n",
    "    ],\n",
    "\n",
    "    'psychiatric_conditions': [\n",
    "        'PTSD',\n",
    "        'BIPOLAR',\n",
    "        'SCHIZ',\n",
    "        'DEP2YRS',\n",
    "        'DEPOTHR',\n",
    "        'ANXIETY',\n",
    "        'OCD',\n",
    "        'NPSYDEV',\n",
    "        'PSYCDIS' # other\n",
    "    ]\n",
    "}"
   ]
  },
  {
   "cell_type": "markdown",
   "id": "01aa4ae7-ca55-4865-89c1-c6f2f11160c9",
   "metadata": {},
   "source": [
    "# Form B1"
   ]
  },
  {
   "cell_type": "code",
   "execution_count": 62,
   "id": "f4ab5841-6bf2-4185-a801-c31fa64449db",
   "metadata": {},
   "outputs": [],
   "source": [
    "physical_measurment_features = {\n",
    "    'bmi': ['NACCBMI'],\n",
    "    'blood_pressure': [\n",
    "        'BPSYS', # systolic\n",
    "        'BPDIAS', # diastolic\n",
    "    ],\n",
    "\n",
    "    'heart_rate': ['HRATE'],\n",
    "\n",
    "    'vision': [\n",
    "        'VISION',\n",
    "        'VISCORR', # wear corrective lense\n",
    "        'VISWCORR' # working properly after weaaring corrective lenses\n",
    "    ],\n",
    "\n",
    "    'hearing': [\n",
    "        'HEARING',\n",
    "        'HEARAID',\n",
    "        'HEARWAID'\n",
    "    ]\n",
    "}"
   ]
  },
  {
   "cell_type": "markdown",
   "id": "857b7b3b-5725-45db-aec5-cf096481cc24",
   "metadata": {},
   "source": [
    "# Form B2 and B3 are not in the packet"
   ]
  },
  {
   "cell_type": "markdown",
   "id": "2548cd47-3cde-4fb2-a370-ad67c536b2d4",
   "metadata": {},
   "source": [
    "# Form B4"
   ]
  },
  {
   "cell_type": "code",
   "execution_count": 63,
   "id": "2c5219d2-c487-45f0-a1f9-1039eebc96db",
   "metadata": {},
   "outputs": [],
   "source": [
    "cdr_ftld_features = {\n",
    "    'cdr_scores': [\n",
    "        'MEMORY',\n",
    "        'ORIENT',\n",
    "        'JUDGMENT',\n",
    "        'COMMUN',\n",
    "        'HOMEHOBB',\n",
    "        'PERSCARE',\n",
    "        'CDRSUM', # sum of boxes\n",
    "        'CDRGLOB' # global cdr\n",
    "    ],\n",
    "    \n",
    "    'ftld_scores': [\n",
    "        'COMPORT',\n",
    "        'CDRLANG'\n",
    "    ]\n",
    "}"
   ]
  },
  {
   "cell_type": "markdown",
   "id": "df68e9b0-5f34-4ed9-8706-7b5c698bba4f",
   "metadata": {},
   "source": [
    "# Form B5"
   ]
  },
  {
   "cell_type": "code",
   "execution_count": 78,
   "id": "5cdf4bb7-490a-4462-884f-860e5a0b1071",
   "metadata": {},
   "outputs": [],
   "source": [
    "behavioural_assessment_features = {\n",
    "    # NPI (Neuropsychiatric Inventory)\n",
    "    'npi_symptoms': [\n",
    "        'DEL',  # Delusions\n",
    "        'DELSEV',\n",
    "        # 'HALLUC',    # Hallucinations       \n",
    "        'HALLSEV',\n",
    "        'AGIT',      # Agitation\n",
    "        'AGITSEV',\n",
    "        'DEPD',      # Depression\n",
    "        'DEPDSEV',\n",
    "        'ANX',       # Anxiety\n",
    "        'ANXSEV',\n",
    "        'ELAT',      # Elation\n",
    "        'ELATSEV',\n",
    "        'APA',       # Apathy\n",
    "        'APASEV',\n",
    "        'DISN',  # Disinhibition\n",
    "        'DISNSEV',\n",
    "        'IRR',       # Irritability\n",
    "        'IRRSEV',\n",
    "        'MOT',     # Motor disturbance\n",
    "        'MOTSEV',\n",
    "        'NITE',      # Nighttime behaviors\n",
    "        'NITESEV',\n",
    "        'APP',        # Appetite changes\n",
    "        'APPSEV',\n",
    "    ]\n",
    "}"
   ]
  },
  {
   "cell_type": "markdown",
   "id": "7b38b141-cde6-4147-b2d1-b3ecaca68bfd",
   "metadata": {},
   "source": [
    "# Form B6 (not including in out dataset)"
   ]
  },
  {
   "cell_type": "markdown",
   "id": "25b01b9b-6c50-4555-af98-7de1f4849ac9",
   "metadata": {},
   "source": [
    "# Form B7"
   ]
  },
  {
   "cell_type": "code",
   "execution_count": 65,
   "id": "91e11cea-6e46-4193-ae6d-7404d4644434",
   "metadata": {},
   "outputs": [],
   "source": [
    "functional_assessment_features = {\n",
    "    # FAQ (Functional Activities Questionnaire)\n",
    "    'faq_items': [\n",
    "        'BILLS',     # Managing bills/finances\n",
    "        'TAXES',     # Handling taxes\n",
    "        'SHOPPING',  # Shopping\n",
    "        'GAMES',     # Games/hobbiesssssss\n",
    "        'STOVE',     # Kitchen appliances\n",
    "        'MEALPREP',  # Meal preparation\n",
    "        'EVENTS',    # Remembering events\n",
    "        'PAYATTN',   # Paying attention\n",
    "        'REMDATES',  # Remembering dates\n",
    "        'TRAVEL',    # Traveling\n",
    "    ]\n",
    "}"
   ]
  },
  {
   "cell_type": "markdown",
   "id": "9bc5780c-0ef0-4a71-b9cd-2125e7af1fc0",
   "metadata": {},
   "source": [
    "# Form B8"
   ]
  },
  {
   "cell_type": "code",
   "execution_count": 66,
   "id": "1fe1d070-ff75-41af-b023-6b6d06f7b79d",
   "metadata": {},
   "outputs": [],
   "source": [
    "neurological_examination_features = {\n",
    "    'neurological_examination': [\n",
    "        'NACCNREX',   # Abnormal findings - Q1\n",
    "        'PARKSIGN',   # Parkinsonian signs - Q2\n",
    "        'BRADY',      # Bradykinesia - Q2d\n",
    "        'PARKGAIT',   # Parkinsonian gait disorder - Q2e\n",
    "        'POSTINST',   # Postural instability - Q2f\n",
    "        'CVDSIGNS',   # Neurological signs relate to cerebrovascular disease - Q3\n",
    "        'CORTDEF',    # Cortical cognitive deficit  - Q3a\n",
    "        'SIVDFIND',   # Focal or other neurological findings - Q3b\n",
    "        'CVDMOTL',    # Motor (may include weakness of combination of face, arm, and leg; reflex changes, etc.) — left side - Q3c1\n",
    "        'CVDMOTR',    # Motor (may include weakness of combination of face, arm, and leg; reflex changes, etc.) — right side - Q3c2\n",
    "        'CORTVISL',   # Cortical visual field loss — left side - Q3d1\n",
    "        'CORTVISR',   # Cortical visual field loss — right side - Q3d2\n",
    "        'SOMATL',     # Somatosensory loss — left side - Q3e1\n",
    "        'SOMATR',     # Somatosensory loss — right side - Q3e2\n",
    "        'POSTCORT',   # Higher cortical visual problem suggesting posterior cortical atrophy or apraxia of gaze - Q4\n",
    "        'PSPCBS',     # Findings suggestive of progressive supranuclear palsy (PSP), corticobasal syndrome (CBS), or other related disorders - Q5\n",
    "        'ALSFIND',    # Findings suggesting ALS - Q6\n",
    "        'GAITNPH',    # gait apraxia - Q7\n",
    "        'OTHNEUR',    # Other findings - Q8\n",
    "    ]\n",
    "}\n",
    "\n",
    " # 'RESTTRL',    # left arm tremor - Q2a1\n",
    "        # 'RESTTRR',    # right arm tremor - Q2a2\n",
    "        # 'SLOWINGL',   # Left side Slowing of fine motor movements- Q2b1\n",
    "        # 'SLOWINGR',   # Right side Slowing of fine motor movements - Q2b2\n",
    "        # 'RIGIDL',     # Left arm Rigidity - Q2c1\n",
    "        # 'RIGIDR',     # Right arm Rigidity - Q2c2"
   ]
  },
  {
   "cell_type": "markdown",
   "id": "df4ccef2-5fc1-4a09-b066-c9d1f6bb74cd",
   "metadata": {},
   "source": [
    "# Form B9"
   ]
  },
  {
   "cell_type": "code",
   "execution_count": 67,
   "id": "dcb7c1d7-dfe1-4a81-b2b9-04bd77ea01ff",
   "metadata": {},
   "outputs": [],
   "source": [
    "clinician_judgment_features = {\n",
    "    'memory_subject_co_parti': [\n",
    "        'DECSUB',    # decline in memory - Q1\n",
    "        'DECIN',     # decline in subject’s memory - Q2\n",
    "    ],\n",
    "    'cognitive_symptoms': [\n",
    "        'DECCLCOG',  #  meaningful impairment in cognition - Q3\n",
    "        'COGMEM',    # memory - Q4a\n",
    "        'COGORI',    # orientation - Q4b\n",
    "        'COGJUDG',   # executive function — judgment, planning, or problem-solving - Q4c\n",
    "        'COGLANG',   # language - Q4d\n",
    "        'COGVIS',    # visuospatial function - Q4e\n",
    "        'COGATTN',   # attention or concentration - Q4f\n",
    "        'COGFLUC',   # currently has fluctuating cognition - Q4g\n",
    "        'COGFLAGO',  # age the fluctuating cognition begin? - 4g1\n",
    "        'COGOTHR',   # other cognitive - Q4h\n",
    "        'NACCCOGF',  # predominant symptom  - Q5\n",
    "        'COGMODE',   # Mode of onset of cognitive symptoms - Q6\n",
    "        'DECAGE',    # age did the cognitive decline begin - Q7\n",
    "    ],\n",
    "    'behavioral_symptoms': [\n",
    "        'DECCLBE',   # behavioral symptoms - Q8\n",
    "        'BEAPATHY',  # change in behavior — Apathy, withdrawal - Q9a\n",
    "        'BEDEP',     # Depressed mood - Q9b\n",
    "        'BEVHALL',   # Psychosis - Visual hallucinations - Q9C1\n",
    "        'BEVWELL',   # hallucinations well-formed and detailed? - Q9c1a\n",
    "        'BEVHAGO',   # age these hallucinations begin - Q9c1b\n",
    "        'BEAHALL',   # Psychosis —  Auditory hallucinations - Q9c2\n",
    "        'BEDEL',     # Psychosis — Abnormal, false, or delusional beliefs - Q9c3\n",
    "        'BEDISIN',   # Disinhibition - Q9d\n",
    "        'BEIRRIT',   # Irritability - Q9e\n",
    "        'BEAGIT',    # Agitation - Q9f\n",
    "        'BEPERCH',   # Personality change - Q9g\n",
    "        'BEREM',     # REM sleep behavior disorder - Q9h\n",
    "        'BEREMAGO',  # age the REM sleep behavior disorder begin? - Q9h1\n",
    "        'BEANX',     # Anxiety - Q9i\n",
    "        'BEOTHR',    # Other - Q9j\n",
    "        'NACCBEHF',  # predominant symptom = decline in the subject’s behavior - Q10\n",
    "        'BEMODE',    # Mode of onset of behavioral symptoms - Q11\n",
    "        # 'BEMODEX',   # Other - Q11a\n",
    "        'BEAGE',     # age the behavioral symptoms begin - Q12\n",
    "    ],\n",
    "    'motor_symptoms': [\n",
    "        'DECCLMOT',  # experiencing any motor symptoms - Q13\n",
    "        'MOGAIT',    # Gait disorder - Q14a\n",
    "        'MOFALLS',   # Falls - Q14b\n",
    "        'MOTREM',    # Tremor - Q14c\n",
    "        'MOSLOW',    # Slowness - Q14d\n",
    "        'NACCMOTF',  # subject’s motor function - Q15\n",
    "        'MOMODE',    # Mode of onset of motor symptoms - Q16\n",
    "        'MOMOPARK',  # suggestive of Parkinsonism - Q17\n",
    "        'PARKAGE',   # age Parkinsonism begins - Q17a\n",
    "        'MOMOALS',   # amyotrophic lateral sclerosis? - Q18\n",
    "        'ALSAGE',    # age - ALS begin - Q18a\n",
    "        'MOAGE',     # age the motor changes begin? - Q19\n",
    "    ],\n",
    "    'decline_course_predominant_domain': [\n",
    "        'COURSE',    # Overall decline of cognitive/behavioral/motor syndrome - Q20\n",
    "        'FRSTCHG',   # Q21\n",
    "    ],\n",
    "    'lewy_body_frontotemporal': [\n",
    "        'LBDEVAL',   # Lewy body disease - Q22\n",
    "        'FTLDEVAL',  # frontotemporal lobar degeneration - Q23\n",
    "    ]\n",
    "}"
   ]
  },
  {
   "cell_type": "markdown",
   "id": "83654986-d1c8-4693-94f0-1303aa817e38",
   "metadata": {},
   "source": [
    "# Form C2 - DO NOT USE THIS FORM"
   ]
  },
  {
   "cell_type": "code",
   "execution_count": 68,
   "id": "cd1228e8-47e3-4186-a424-26f6cb204a2d",
   "metadata": {},
   "outputs": [],
   "source": [
    "neuropsychological_battery_scores = {\n",
    "    'montreal_cognitive_assessment' : [\n",
    "        'MOCACOMP',   # Was any part of MoCA administered? - Q1a\n",
    "        'MOCAVIS',    # Subject was unable to complete one or more sections due to visual impairment - Q1d\n",
    "        'MOCAHEAR',   # Subject was unable to complete one or more sections due to hearing impairmen - Q1c\n",
    "        'MOCATOTS',   # MoCA Total Raw Score — uncorrected - Q1f\n",
    "        'NACCMOCA',   # MoCA Total Score — corrected for education\n",
    "        'MOCATRAI',   # MoCA: Visuospatial/executive — Trails - Q1g\n",
    "        'MOCACUBE',   # MoCA: Visuospatial/executive — Cube - Q1h\n",
    "        'MOCACLOC',   # MoCA: Visuospatial/executive —  Clock contour - Q1i\n",
    "        'MOCACLON',   # MoCA: Visuospatial/executive —  Clock numbers - Q1j\n",
    "        'MOCACLOH',   # MoCA: Language — Naming - Q1L\n",
    "        'MOCAREGI',   # MoCA: Memory — Registration (two trials) - Q1m\n",
    "        'MOCADIGI',   # MoCA: Attention — Digits - Q1n\n",
    "        'MOCALETT',   # MoCA: Attention — Letter A - Q1o\n",
    "        'MOCASER7',   # MoCA: Attention — Serial 7s - Q1p\n",
    "        'MOCAREPE',   # MoCA: Language — Repetition - Q1q\n",
    "        'MOCAFLUE',   # MoCA: Language — Fluency - Q1r\n",
    "        'MOCAABST',   # MoCA: Abstraction - Q1s\n",
    "        'MOCARECN',   # MoCA: Delayed recall — No cue - Q1t\n",
    "        'MOCARECC',   # MoCA: Delayed recall — Category cue - Q1u\n",
    "        'MOCARECR',   # MoCA: Delayed recall — Recognition - Q1v\n",
    "        'MOCAORDT',   # MoCA: Orientation — Date - Q1w\n",
    "        'MOCAORMO',   # MoCA: Orientation — Month - Q1x\n",
    "        'MOCAORYR',   # MoCA: Orientation — Year - Q1y\n",
    "        'MOCAORDY',   # MoCA: Orientation — Day - Q1z\n",
    "        'MOCAORPL',   # MoCA: Orientation — Place - Q1aa\n",
    "        'MOCAORCT',   # MoCA: Orientation — City - Q1bb\n",
    "    ],\n",
    "    'craft_story_21_immediate' : [\n",
    "        'CRAFTVRS',   # Craft Story 21 Recall (Immediate) — Total story units recalled, verbatim scoring - Q3a\n",
    "        'CRAFTURS',   # Craft Story 21 Recall (Immediate) — Total  story units recalled, paraphrase scoring - Q3b\n",
    "    ],\n",
    "    'benson_complex_figure_copy' : [\n",
    "        'UDSBENTC'   #  Total score for copy of Benson figure - Q4a\n",
    "    ],\n",
    "    'number_span_test_forward': [\n",
    "        'DIGFORCT',   # Number Span Test: Forward — Number of correct trials - Q5a\n",
    "        'DIGFORSL',   # Number Span Test: Forward — Longest span forward - Q5b\n",
    "    ],\n",
    "    'number_span_test_backward': [\n",
    "        'DIGBACCT',   # Number Span Test: Backward — Number of correct trials - Q6a\n",
    "        'DIGBACLS',   # Number Span Test: Backward — Longest span forward - Q6b\n",
    "    ],\n",
    "    'category_fluency_test': [\n",
    "        'ANIMALS',    # Animals — Total number of animals named in 60 seconds - Q7a\n",
    "        'VEG',        # Vegetables — Total number of vegetables named in 60 seconds - Q7b\n",
    "    ],\n",
    "    'trail_making_test': [\n",
    "        'TRAILA',     # Trail Making Test Part A — Total number of seconds to complete - Q8a\n",
    "        'TRAILARR',   # Part A — Number of commission errors - Q8a1\n",
    "        'TRAILALI',   # Part A — Number of correct lines - A8a2\n",
    "        'TRAILB',     # Trail Making Test Part B — Total number of seconds to complete - Q8b\n",
    "        'TRAILBRR',   # Part B — Number of commission errors - Q8b1\n",
    "        'TRAILBLI',   # Part A — Number of correct lines - A8b2\n",
    "    ],\n",
    "    'craft_story_21_delayed' : [\n",
    "        'CRAFTDVR',   # Craft Story 21 Recall (Delayed) — Total story units recalled, verbatim scoring - Q9a\n",
    "        'CRAFTDRE',   # Craft Story 21 Recall (Delayed) — Total story units recalled, paraphrase scoring - Q9b\n",
    "        'CRAFTDTI',   # Craft Story 21 Recall (Delayed) —  Delay time - Q9c\n",
    "        'CRAFTCUE',   # Craft Story 21 Recall (Delayed) — Cue (boy) needed - Q9d\n",
    "    ],\n",
    "    'benson_complex_figure_recall' : [\n",
    "        'UDSBENTD',   # Total score for 10- to 15-minute delayed drawing of Benson figure  - Q10a\n",
    "        'UDSBENRS',   # Recognized original stimulus from among four options - Q10b\n",
    "    ],\n",
    "    'multilingual_naming_test' : [\n",
    "        'MINTTOTS',   # Total score - Q11a\n",
    "        'MINTTOTW',   # Total correct without semantic cue - Q11b\n",
    "        'MINTSCNG',   # Semantic cues: Number given - Q11c\n",
    "        'MINTSCNC',   # Semantic cues: Number correct with cue - Q11d\n",
    "        'MINTPCNG',   # Phonemic cues: Number given - Q11e\n",
    "        'MINTPCNC',   # Phonemic cues: Number correct with cue - Q11f\n",
    "    ],\n",
    "    'verbal_fluency_test': [\n",
    "        'UDSVERFC',   # Number of correct F-words generated in 1 minute - Q12a\n",
    "        'UDSVERFN',   # Number of F-words repeated in 1 minute - Q12b\n",
    "        'UDSVERNF',   # Number of non-F-words and rule violation errors in 1 minute - Q12c\n",
    "        'UDSVERLC',   # Number of correct L-words generated in 1 minute - Q12d\n",
    "        'UDSVERLR',   # Number of L-words repeated in 1 minute - Q12e\n",
    "        'UDSVERLN',   # Number of non-L-words and rule violation - Q12f\n",
    "        'UDSVERTN',   # Total number of correct F-words and  - Q12g\n",
    "        'UDSVERTE',   # Total number of F-word and L-word repetition errors - Q12h\n",
    "        'UDSVERTI',   # Total number of non-F/L-words and rule violation errors - Q12i\n",
    "    ],\n",
    "    'overall_appraisal': [\n",
    "        'COGSTAT',   #  the subject’s cognitive status is deemed - Q13a\n",
    "    ]\n",
    "}"
   ]
  },
  {
   "cell_type": "markdown",
   "id": "5dbcdbd9-3121-432d-889d-0429ccf7199f",
   "metadata": {},
   "source": [
    "# Form D1"
   ]
  },
  {
   "cell_type": "code",
   "execution_count": 69,
   "id": "11d66eac-b824-409f-a946-ae5a0403a63e",
   "metadata": {},
   "outputs": [],
   "source": [
    "# Section 1\n",
    "clinician_diagnosis_features = {\n",
    "    'cognitive_status': [\n",
    "        'NORMCOG',    # Normal cognition and behavior - Q 2\n",
    "        'NACCNORM',   # NACC derived -  Normal cognition at all visits to date - Q 2\n",
    "        'DEMENTED',   # Met criteria for dementia - Q 3\n",
    "        'NACCIDEM',   # NACC derived Incident dementia during UDS follow-up - Q 3\n",
    "        'NACCUDSD',   # NACC derived -  Cognitive status at UDS visit - Q. [2, 3, 5a-5e]\n",
    "        'AMNDEM',     # Amnestic multidomain dementia syndrome - Q 4a\n",
    "        'PCA',        # Posterior cortical atrophy syndrome (or primary visual presentation) - Q 4b\n",
    "        'NACCPPA',    # NACC derived - Primary progressive aphasia (PPA) with cognitive impairment - Q 4c\n",
    "        'NACCPPAG',   # NACC derived — PPA subtype according - Q 4c1\n",
    "        'NACCBVFT',   # Dementia syndrome — behavioral variant FTD syndrome (bvFTD) - Q 4d\n",
    "        'NACCLBDS',   # Dementia syndrome — Lewy body dementia syndrome - Q 4e\n",
    "        'NAMNDEM',    # Dementia syndrome — Non-amnestic multidomain dementia, not PCA, PPA, bvFTD, or DLB syndrome - Q 4e\n",
    "        'NACCTMCI',   # Mild cognitive impairment (MCI) type - Q. 5a-d MCI type\n",
    "        'NACCMCII',    # NACC derived - Incident MCI during UDS follow-up - Q [5a, 5b, 5c, 5d]\n",
    "        'NACCMCIL',   # MCI — language - Q. [5b1, 5c1, 5d1]\n",
    "        'NACCMCIA',   # MCI attention - Q. [5b2, 5c2, 5d2]\n",
    "        'NACCMCIE',   # MCI executive function - Q. [5b3, 5c3, 5d3]\n",
    "        'NACCMCIV',   # MCI visuospatial - Q. [5b4, 5c4, 5d4]\n",
    "        'IMPNOMCI',   # Cognitively impaired, not MCI Q. 5e\n",
    "    ],\n",
    "     'etiologic_diagnoses': [\n",
    "        'NACCETPR',  # NACC derived  \n",
    "        'NACCALZD',  # NACC derived  - Alzheimer’s diseas - Q 11\n",
    "        'NACCALZP',  # NACC derived - Primary, contributing, or non-contributing cause of observed cognitive impairment — Alzheimer’s disease (AD) - Q 11a\n",
    "        'NACCLBDE',  # NACC derived  Lewy body disease - Q 12\n",
    "        'NACCLBDP',  # NACC derived -Primary/contributing/non-contributing — Lewy body disease (LBD) - Q 12 a\n",
    "        'PARK',      # Parkinson’s disease present - Q 12b\n",
    "        'MSA',       # Multiple system atrophy (MSA) - Q 13\n",
    "        'PSP',       # primary supranuclear palsy (PSP) - Q 14a\n",
    "        'CORT',      # Presumptive etiologic diagnosis — Corticobasal degeneration (CBD) - Q 14b\n",
    "        'FTLDMO',    # FTLD with motor neuron disease (MND) - W 14c\n",
    "        'CVD',       # Vascular brain injury (VBI)  - Q 15\n",
    "        'DOWNS',     # Down syndrome - Q 17\n",
    "        'HUNT',      # Huntington’s disease Numeric longitudinal - Q 18\n",
    "        'PRION',     # Prion disease - Q 19\n",
    "        'BRNINJ',    # Traumatic brain injury (TBI) - Q 20\n",
    "        'EPILEP',    # Epilepsy - Q 22\n",
    "        'NEOP',      # Presumptive etiologic diagnosis — CNS neoplasm - Q 23\n",
    "        'HIV',       # Q24\n",
    "        'DEP',       # Depression - Q 26\n",
    "        'BIPOLDX',   # Bipolar disorder - Q 27\n",
    "        'ANXIET',    # Anxiety - Q 29\n",
    "        'DELIR',     # Delirium - Q 30\n",
    "        'PTSDDX',    # Post traumatic stress disorder (PTSD) - Q 31\n",
    "        'ALCDEM',    # Cognitive impairment due to alcohol abuse - Q 33\n",
    "        'MEDS',      # Cognitive impairment due to medications - Q 36\n",
    "    ],\n",
    "\n",
    "    'inheritance': [\n",
    "        'NACCADMU', # AD Mutation\n",
    "        'NACCFTDM' # FTLD Mutation\n",
    "    ]\n",
    "}"
   ]
  },
  {
   "cell_type": "markdown",
   "id": "3cc966b4-e431-4df1-8aba-b631f22b0640",
   "metadata": {},
   "source": [
    "# Form D2"
   ]
  },
  {
   "cell_type": "code",
   "execution_count": 70,
   "id": "33346b39-6d6d-4d22-8c55-e03c2e45643e",
   "metadata": {},
   "outputs": [],
   "source": [
    "medical_conditions_features = {\n",
    "    'medical_conditions_procedures': [\n",
    "        'CANCER',   # Cancer present in the last 12 months - Q1\n",
    "        'DIABET',   # Diabetes - Q2\n",
    "        'MYOINF',   # Myocardial infarct - Q3\n",
    "        'CONGHRT',  # Congestive heart failure - Q4\n",
    "        'AFIBRILL', # Atrial fibrillation - Q5\n",
    "        'HYPERT',   # Hypertension - Q6\n",
    "        'ANGINA',   # Angina - Q7\n",
    "        'HYPCHOL',  # Hypercholesterolemia - Q8\n",
    "        'VB12DEF',  # B12 deficiency - Q9\n",
    "        'THYDIS',   # Thyroid disease - Q10\n",
    "        'ARTH',     # Arthritis - Q11\n",
    "        'ARTYPE',   # Arthritis type - Q11a \n",
    "        'URINEINC', # Incontinence — urinary - Q12\n",
    "        'BOWLINC',  # Incontinence — bowel - Q13\n",
    "        'SLEEPAP',  # Sleep apnea present - Q14\n",
    "        'REMDIS',   # REM sleep behavior disorder (RBD) - Q15\n",
    "        'HYPOSOM',  # Hyposomnia/insomnia - Q16\n",
    "        'SLEEPOTH', # Other sleep disorder - Q17\n",
    "        'ANGIOCP',  # Carotid procedure - Q18 - Not directly related but chance for heart issue\n",
    "        'ANGIOPCI', # Percutaneous coronary intervention - Q19 - Not directly related\n",
    "        'PACEMAKE', # pacemaker and/or defibrillator - Q20\n",
    "        'HVALVE',   # heart valve replacement or repair - Q21\n",
    "        'ANTIENC',  # Antibody-mediated encephalopathy  - Q22\n",
    "    ]\n",
    "}"
   ]
  },
  {
   "cell_type": "markdown",
   "id": "be34919e-53a6-4c0c-bd4c-b783190096c8",
   "metadata": {},
   "source": [
    "# Variable not to use "
   ]
  },
  {
   "cell_type": "code",
   "execution_count": 71,
   "id": "2bec5696-c647-4f14-9671-56ed0f10b5da",
   "metadata": {},
   "outputs": [],
   "source": [
    " # ---- everything focus on PSP - so do we want to focus on PSP? - Form B8\n",
    "        # 'PSPCBS',     # Findings suggestive of progressive supranuclear palsy (PSP), corticobasal syndrome (CBS), or other related disorders - Q5\n",
    "        # 'EYEPSP',     # Eye movement changes consistent with PSP - Q5a - need to think about it - Q5a\n",
    "        # 'DYSPSP',     # Dysarthria consistent with PSP - Q5b\n",
    "        # 'AXIALPSP',   # Axial rigidity consistent with PSP - Q5c\n",
    "        # 'GAITPSP',    # Gait disorder consistent with PSP - Q5d\n",
    "        # 'APRAXSP',    # Apraxia of speech - Q5e\n",
    "        # 'APRAXL',     # Apraxia consistent with CBS — left side - Q5f1\n",
    "        # 'APRAXR',     # Apraxia consistent with CBS — right side - Q5f2\n",
    "        # 'CORTSENL',   # Cortical sensory deficits consistent with CBS — left side - Q5g1\n",
    "        # 'CORTSENR',   # Cortical sensory deficits consistent with CBS — right side - Q5g2\n",
    "        # 'ATAXL',      # Ataxia consistent with CBS — left side - Q5h1\n",
    "        # 'ATAXR',      # Ataxia consistent with CBS — right side - Q5h2\n",
    "        # 'ALIENLML',   # Alien limb consistent with CBS — left side - Q5i1\n",
    "        # 'ALIENLMR',   # Alien limb consistent with CBS — right sid - Q5i2\n",
    "        # 'DYSTONL',    # Dystonia consistent with CBS, PSP, or related disorder — left side - Q5j1\n",
    "        # 'DYSTONR',    # Dystonia consistent with CBS, PSP, or related disorder — right side- Q5j2\n",
    "        # 'MYOCLLT',    # Myoclonus consistent with CBS — left side - Q5k1\n",
    "        # 'MYOCLRT',    # Myoclonus consistent with CBS — right side - Q5k2\n",
    "        \n",
    "        # 'FOCLDEF',    # Deprecated in V3\n",
    "        # 'GAITDIS',    # Deprecated in V3\n",
    "        # 'EYEMOVE'     # Deprecated in V3"
   ]
  },
  {
   "cell_type": "code",
   "execution_count": 72,
   "id": "0415f097-151a-44e5-94ad-1a756eab6219",
   "metadata": {},
   "outputs": [],
   "source": [
    "# Form D1 - Section 3\n",
    "\n",
    "#         'PROBAD',    # Presumptive etiologic diagnosis of the cognitive disorder — Probable Alzheimer’s disease - Q 11\n",
    "#         'PROBADIF',  # Primary, contributing, or non-contributing cause of cognitive impairment — Probable Alzheimer’s disease - Q 11a      \n",
    "#         'FTLDNOS',   # Presumptive etiologic diagnosis of the cognitive disorder — FTLD not otherwise specified (NOS) - Q 14d\n",
    "#         'FTLDNOIF',  # Primary, contributing, or non-contributing cause of cognitive impairment — FTLD not otherwise specified (NOS) - Q 14d1\n",
    "#         'FTLDSUBT',  # FTLD subtype - Q 14e\n",
    "#         'FTLDSUBX',  # Other FTLD subtype, specify - Q 14e1\n",
    "#         'CVD',       # Presumptive etiologic diagnosis — Vascular brain injury (VBI)  - Q 15\n",
    "#         'CVDIF',     # Primary, contributing, or non-contributing cause of cognitive impairment — vascular brain injury - Q 15a\n",
    "#         'PREVSTK',   # Previous symptomatic stroke - Q 15b\n",
    "#         'STROKDEC',  # Temporal relationship between stroke and cognitive decline - Q 15b1\n",
    "#         'STKIMAG',   # Confirmation of stroke by neuroimaging - Q 15b2\n",
    "#         'INFNETW',   # Imaging evidence of cystic infarction in cognitive network(s) - Q 15c\n",
    "#         'INFWMH',    # Imaging evidence of cystic infarction - Stroke damage, white matter disease, poor thinking skills - Q 15d\n",
    "#         'ESSTREM',   # Presumptive etiologic diagnosis —  Essential tremor - Q 16\n",
    "#         'ESSTREIF',  # Primary, contributing, or non-contributing cause of cognitive impairment — Essential tremor - Q 16a\n",
    "\n",
    "#         'BRNINCTE',  # Symptoms consistent with chronic traumatic encephalopathy (CTE) - Q 20b\n",
    "#         'HYCEPH',    # Presumptive etiologic diagnosis of the cognitive disorder — Normal-pressure hydrocephalus (NPH) - Q 21\n",
    "#         'HYCEPHIF',  # Primary, contributing, or non-contributing cause of cognitive impairment — Normalpressure hydrocephalus (NPH) - Q 21a \n",
    "#         \n",
    "#         \n",
    "#         'NEOPSTAT',  # CNS neoplasm — benign or malignant - Q23b\n",
    "\n",
    "#         'OTHCOG',    # Presumptive etiologic diagnosis — Other neurological, genetic, or infectious condition - Q 25\n",
    "#         'OTHCOGIF',  # Primary, contributing, or non-contributing cause of cognitive impairment — Other neurological, genetic, or infectious condition - Q 25a\n",
    "#         'OTHCOGX',   # Presumptive etiologic diagnosis of the cognitive disorder — Other neurological, genetic, or infectious condition (specify)  Q 25b\n",
    "#         'DEPIF',     # Primary, contributing, or non-contributing cause of cognitive impairment — Depression - Q26 a\n",
    "#         'DEPTREAT',  # Depression — Treated or untreated - Q 26b\n",
    "#         \n",
    "#         'BIPOLDIF',  # Primary, contributing, or non-contributing cause of cognitive impairment — bipolar disorder - Q 27a\n",
    "#         'SCHIZOP',   # Presumptive etiologic diagnosis — Schizophrenia or other psychosis - Q 28\n",
    "#         'SCHIZOIF',  # Primary, contributing, or non-contributing cause of cognitive impairment — Schizophrenia or other psychosis - Q 28a\n",
    "#         \n",
    "#         'ANXIETIF',  # Primary, contributing, or non-contributing cause of cognitive impairment — Anxiety - Q 29a\n",
    "#         \n",
    "#         'DELIRIF',   # Primary, contributing, or non-contributing cause of cognitive impairment — Delirium - Q 30a\n",
    "#         'PTSDDXIF',  # Primary, contributing, or non-contributing cause of cognitive impairment — PTSD - Q 31a\n",
    "#         'OTHPSY',    # Presumptive etiologic diagnosis — Other psychiatric disease - Q 32\n",
    "#         'OTHPSYIF',  # Primary, contributing, or non-contributing cause of cognitive impairment — Other psychiatric disease - Q 32a\n",
    "#         'OTHPSYX',   # Presumptive etiologic diagnosis of the cognitive disorder — Other psychiatric disease (specify) - Q 32b\n",
    "#        \n",
    "#         'ALCDEMIF',  # Primary, contributing, or non-contributing cause of cognitive impairment — Alcohol abuse - Q 33a\n",
    "#         'ALCABUSE',  # Current alcohol abuse - Q 33b\n",
    "#         'IMPSUB',    # Presumptive etiologic diagnosis of the cognitive disorder — Cognitive impairment due to other substance abuse - Q 34\n",
    "#         'IMPSUBIF',  # Primary, contributing, or non-contributing cause of cognitive impairment — Other substance abuse - Q 34a\n",
    "#         'DYSILL',    # Presumptive etiologic diagnosis of the cognitive disorder — Cognitive impairment due to systemic disease/medical illness - Q 35\n",
    "#         'DYSILLIF',  # Primary, contributing, or non-contributing cause of cognitive impairment — systemic disease/medical illness - Q 35a\n",
    "#         'MEDSIF',    # Primary, contributing, or non-contributing cause of cognitive impairment — medications - Q 36a\n",
    "#         'DEMUN',     # Deprecated in V3 -  Presumptive etiologic diagnosis of the cognitive disorder — Undetermined etiology\n",
    "#         'DEMUNIF',   # Deprecated in V3 -  Primary, contributing, or non-contributing cause of cognitive impairment — Undetermined etiology\n",
    "#         'COGOTH',    # Presumptive etiologic diagnosis of the cognitive disorder — Other 1 (specify) - Q 37\n",
    "#         'COGOTHIF',  # Primary, contributing, or non-contributing cause of cognitive impairment — Other 1 (specify) - Q 37a\n",
    "#         'COGOTHX',   # Other presumptive etiologic diagnosis of the cognitive disorder 1, specify - Q 37b\n",
    "#         'COGOTH2',   # Presumptive etiologic diagnosis of the cognitive disorder — Other 2 (specify) - Q 38\n",
    "#         'COGOTH2F',  # Primary, contributing, or non-contributing cause of cognitive impairment — Other 2 (specify) - Q 38a\n",
    "#         'COGOTH2X',  # Other presumptive etiologic diagnosis of the cognitive disorder 2, specify - Q 38b\n",
    "#         'COGOTH3',   # Presumptive etiologic diagnosis of the cognitive disorder — Other 3 (specify) - Q 39\n",
    "#         'COGOTH3F',  # Primary, contributing, or non-contributing cause of cognitive impairment — Other 3 (specify) - Q 39a\n"
   ]
  },
  {
   "cell_type": "markdown",
   "id": "e5457de3-02fd-40b2-94af-bb9faebe8bbc",
   "metadata": {},
   "source": [
    "# Feature Selection"
   ]
  },
  {
   "cell_type": "code",
   "execution_count": 81,
   "id": "87fa064b-491e-4df4-83e4-91cd6312d6e4",
   "metadata": {},
   "outputs": [
    {
     "data": {
      "text/html": [
       "<div>\n",
       "<style scoped>\n",
       "    .dataframe tbody tr th:only-of-type {\n",
       "        vertical-align: middle;\n",
       "    }\n",
       "\n",
       "    .dataframe tbody tr th {\n",
       "        vertical-align: top;\n",
       "    }\n",
       "\n",
       "    .dataframe thead th {\n",
       "        text-align: right;\n",
       "    }\n",
       "</style>\n",
       "<table border=\"1\" class=\"dataframe\">\n",
       "  <thead>\n",
       "    <tr style=\"text-align: right;\">\n",
       "      <th></th>\n",
       "      <th>DEPD</th>\n",
       "      <th>HANDED</th>\n",
       "      <th>NACCOM</th>\n",
       "      <th>MOTSEV</th>\n",
       "      <th>NACCLIPL</th>\n",
       "      <th>BEIRRIT</th>\n",
       "      <th>BEMODE</th>\n",
       "      <th>MOTREM</th>\n",
       "      <th>NACCMCIV</th>\n",
       "      <th>BEDISIN</th>\n",
       "      <th>...</th>\n",
       "      <th>NACCNORM</th>\n",
       "      <th>NACCCCBS</th>\n",
       "      <th>VB12DEF</th>\n",
       "      <th>BEDEL</th>\n",
       "      <th>DISN</th>\n",
       "      <th>NACCFFTD</th>\n",
       "      <th>APP</th>\n",
       "      <th>CBTIA</th>\n",
       "      <th>BEREMAGO</th>\n",
       "      <th>BEVHALL</th>\n",
       "    </tr>\n",
       "  </thead>\n",
       "  <tbody>\n",
       "    <tr>\n",
       "      <th>0</th>\n",
       "      <td>0</td>\n",
       "      <td>2</td>\n",
       "      <td>9</td>\n",
       "      <td>8</td>\n",
       "      <td>0</td>\n",
       "      <td>0</td>\n",
       "      <td>0</td>\n",
       "      <td>0</td>\n",
       "      <td>1</td>\n",
       "      <td>0</td>\n",
       "      <td>...</td>\n",
       "      <td>0</td>\n",
       "      <td>1</td>\n",
       "      <td>0.0</td>\n",
       "      <td>0</td>\n",
       "      <td>0</td>\n",
       "      <td>0</td>\n",
       "      <td>0</td>\n",
       "      <td>0</td>\n",
       "      <td>888</td>\n",
       "      <td>0</td>\n",
       "    </tr>\n",
       "    <tr>\n",
       "      <th>1</th>\n",
       "      <td>0</td>\n",
       "      <td>2</td>\n",
       "      <td>9</td>\n",
       "      <td>8</td>\n",
       "      <td>1</td>\n",
       "      <td>0</td>\n",
       "      <td>0</td>\n",
       "      <td>0</td>\n",
       "      <td>0</td>\n",
       "      <td>0</td>\n",
       "      <td>...</td>\n",
       "      <td>0</td>\n",
       "      <td>0</td>\n",
       "      <td>0.0</td>\n",
       "      <td>0</td>\n",
       "      <td>0</td>\n",
       "      <td>0</td>\n",
       "      <td>0</td>\n",
       "      <td>-4</td>\n",
       "      <td>888</td>\n",
       "      <td>0</td>\n",
       "    </tr>\n",
       "    <tr>\n",
       "      <th>2</th>\n",
       "      <td>-4</td>\n",
       "      <td>2</td>\n",
       "      <td>9</td>\n",
       "      <td>-4</td>\n",
       "      <td>0</td>\n",
       "      <td>0</td>\n",
       "      <td>0</td>\n",
       "      <td>0</td>\n",
       "      <td>8</td>\n",
       "      <td>0</td>\n",
       "      <td>...</td>\n",
       "      <td>1</td>\n",
       "      <td>0</td>\n",
       "      <td>0.0</td>\n",
       "      <td>0</td>\n",
       "      <td>-4</td>\n",
       "      <td>0</td>\n",
       "      <td>-4</td>\n",
       "      <td>0</td>\n",
       "      <td>888</td>\n",
       "      <td>0</td>\n",
       "    </tr>\n",
       "    <tr>\n",
       "      <th>3</th>\n",
       "      <td>0</td>\n",
       "      <td>2</td>\n",
       "      <td>-4</td>\n",
       "      <td>8</td>\n",
       "      <td>0</td>\n",
       "      <td>0</td>\n",
       "      <td>0</td>\n",
       "      <td>0</td>\n",
       "      <td>8</td>\n",
       "      <td>0</td>\n",
       "      <td>...</td>\n",
       "      <td>0</td>\n",
       "      <td>0</td>\n",
       "      <td>8.0</td>\n",
       "      <td>0</td>\n",
       "      <td>0</td>\n",
       "      <td>0</td>\n",
       "      <td>1</td>\n",
       "      <td>9</td>\n",
       "      <td>888</td>\n",
       "      <td>0</td>\n",
       "    </tr>\n",
       "    <tr>\n",
       "      <th>4</th>\n",
       "      <td>0</td>\n",
       "      <td>2</td>\n",
       "      <td>9</td>\n",
       "      <td>8</td>\n",
       "      <td>0</td>\n",
       "      <td>0</td>\n",
       "      <td>0</td>\n",
       "      <td>0</td>\n",
       "      <td>8</td>\n",
       "      <td>0</td>\n",
       "      <td>...</td>\n",
       "      <td>1</td>\n",
       "      <td>0</td>\n",
       "      <td>0.0</td>\n",
       "      <td>0</td>\n",
       "      <td>0</td>\n",
       "      <td>0</td>\n",
       "      <td>0</td>\n",
       "      <td>0</td>\n",
       "      <td>888</td>\n",
       "      <td>0</td>\n",
       "    </tr>\n",
       "  </tbody>\n",
       "</table>\n",
       "<p>5 rows × 278 columns</p>\n",
       "</div>"
      ],
      "text/plain": [
       "   DEPD  HANDED  NACCOM  MOTSEV  NACCLIPL  BEIRRIT  BEMODE  MOTREM  NACCMCIV  \\\n",
       "0     0       2       9       8         0        0       0       0         1   \n",
       "1     0       2       9       8         1        0       0       0         0   \n",
       "2    -4       2       9      -4         0        0       0       0         8   \n",
       "3     0       2      -4       8         0        0       0       0         8   \n",
       "4     0       2       9       8         0        0       0       0         8   \n",
       "\n",
       "   BEDISIN  ...  NACCNORM  NACCCCBS  VB12DEF  BEDEL  DISN  NACCFFTD  APP  \\\n",
       "0        0  ...         0         1      0.0      0     0         0    0   \n",
       "1        0  ...         0         0      0.0      0     0         0    0   \n",
       "2        0  ...         1         0      0.0      0    -4         0   -4   \n",
       "3        0  ...         0         0      8.0      0     0         0    1   \n",
       "4        0  ...         1         0      0.0      0     0         0    0   \n",
       "\n",
       "   CBTIA  BEREMAGO  BEVHALL  \n",
       "0      0       888        0  \n",
       "1     -4       888        0  \n",
       "2      0       888        0  \n",
       "3      9       888        0  \n",
       "4      0       888        0  \n",
       "\n",
       "[5 rows x 278 columns]"
      ]
     },
     "execution_count": 81,
     "metadata": {},
     "output_type": "execute_result"
    }
   ],
   "source": [
    "all_feature_dicts = [\n",
    "    demographics_features,\n",
    "    co_participant_demograpgics,\n",
    "    family_history_features,\n",
    "    medication_features,\n",
    "    health_history_features,\n",
    "    physical_measurment_features,\n",
    "    cdr_ftld_features,\n",
    "    behavioural_assessment_features,\n",
    "    functional_assessment_features,\n",
    "    neurological_examination_features,\n",
    "    clinician_judgment_features,\n",
    "    clinician_diagnosis_features,\n",
    "    medical_conditions_features\n",
    "    \n",
    "]\n",
    "\n",
    "selected_features = []\n",
    "for feature_group in all_feature_dicts:\n",
    "    for feature_list in feature_group.values():\n",
    "        selected_features.extend(feature_list)\n",
    "\n",
    "selected_features = list(set(selected_features))\n",
    "df_selected = data[selected_features]\n",
    "df_selected.head()\n"
   ]
  },
  {
   "cell_type": "code",
   "execution_count": 82,
   "id": "772e5756-0a81-49bf-8a87-81467bd25bef",
   "metadata": {},
   "outputs": [
    {
     "data": {
      "text/plain": [
       "(161700, 278)"
      ]
     },
     "execution_count": 82,
     "metadata": {},
     "output_type": "execute_result"
    }
   ],
   "source": [
    "df_selected.shape"
   ]
  },
  {
   "cell_type": "markdown",
   "id": "af3aa9a7-2169-49ac-8ea4-c498b1580e2c",
   "metadata": {},
   "source": [
    "# Missing value analysis"
   ]
  },
  {
   "cell_type": "code",
   "execution_count": 88,
   "id": "10d78089-977b-4beb-a736-fc1aec24a228",
   "metadata": {},
   "outputs": [
    {
     "data": {
      "text/plain": [
       "DEPD        0.0\n",
       "HANDED      0.0\n",
       "NACCOM      0.0\n",
       "MOTSEV      0.0\n",
       "NACCLIPL    0.0\n",
       "           ... \n",
       "NACCFFTD    0.0\n",
       "APP         0.0\n",
       "CBTIA       0.0\n",
       "BEREMAGO    0.0\n",
       "BEVHALL     0.0\n",
       "Length: 278, dtype: float64"
      ]
     },
     "execution_count": 88,
     "metadata": {},
     "output_type": "execute_result"
    }
   ],
   "source": [
    "(df_selected.isnull().mean() * 100).round(2)"
   ]
  },
  {
   "cell_type": "code",
   "execution_count": 89,
   "id": "8189890e-1b54-4f73-b722-a4b4d11a65c4",
   "metadata": {},
   "outputs": [
    {
     "name": "stdout",
     "output_type": "stream",
     "text": [
      "DEPD          0\n",
      "HANDED        0\n",
      "NACCOM        0\n",
      "MOTSEV        0\n",
      "NACCLIPL      0\n",
      "BEIRRIT       0\n",
      "BEMODE        0\n",
      "MOTREM        0\n",
      "NACCMCIV      0\n",
      "BEDISIN       0\n",
      "BPSYS       389\n",
      "CORT          0\n",
      "CDRGLOB       0\n",
      "BEPERCH       0\n",
      "COGFLAGO      0\n",
      "NACCETPR      0\n",
      "NACCBETA      0\n",
      "INSOMN        0\n",
      "SHOPPING      0\n",
      "BEDEP         0\n",
      "BIPOLAR       0\n",
      "OTHNEUR      13\n",
      "RBD           0\n",
      "THYDIS        1\n",
      "NAMNDEM       0\n",
      "CVPACE        0\n",
      "COGORI        0\n",
      "PSYCDIS       0\n",
      "COMMUN        0\n",
      "IRR           0\n",
      "SEIZURES      0\n",
      "NACCTMCI      0\n",
      "CVD           0\n",
      "SLEEPOTH      1\n",
      "ARTHTYPE      0\n",
      "CVDSIGNS     13\n",
      "NACCMCIE      0\n",
      "HRATE       389\n",
      "EDUC          0\n",
      "BEANX         0\n",
      "SOMATR       13\n",
      "NACCMCIL      0\n",
      "CORTVISR     13\n",
      "NACCAANX      0\n",
      "ANGIOPCI      1\n",
      "PD            0\n",
      "DEPDSEV       0\n",
      "THYROID       0\n",
      "PDOTHR        0\n",
      "SIVDFIND     13\n",
      "TOBAC100      0\n",
      "CVDMOTL      13\n",
      "FTLDEVAL      0\n",
      "INCONTF       0\n",
      "CVCHF         0\n",
      "COMPORT       0\n",
      "ANTIENC       1\n",
      "NACCVASD      0\n",
      "ANXIETY       0\n",
      "DIABETES      0\n",
      "NACCTBI       0\n",
      "PAYATTN       0\n",
      "NACCCOGF      0\n",
      "ELATSEV       0\n",
      "MYOINF        1\n",
      "NCOTHR        0\n",
      "NACCBEHF      0\n",
      "COGMEM        0\n",
      "INCONTU       0\n",
      "URINEINC      1\n",
      "CVPACDEF      0\n",
      "CORTDEF      13\n",
      "BEAPATHY      0\n",
      "IMPNOMCI      0\n",
      "NACCACEI      0\n",
      "AGIT          0\n",
      "HYPERTEN      0\n",
      "STOVE         0\n",
      "CVBYPASS      0\n",
      "NACCPDMD      0\n",
      "COURSE        0\n",
      "PCA           0\n",
      "NACCALZD      0\n",
      "PTSDDX        0\n",
      "NEOP          0\n",
      "BOWLINC       1\n",
      "NACCPPA       0\n",
      "ALCDEM        0\n",
      "VISION        0\n",
      "ANGIOCP       1\n",
      "NACCLBDS      0\n",
      "CVAFIB        0\n",
      "ORIENT        0\n",
      "BEREM         0\n",
      "ALCOHOL       0\n",
      "DIABTYPE      0\n",
      "NACCUDSD      0\n",
      "INRELTO       0\n",
      "DEMENTED      0\n",
      "HALLSEV       0\n",
      "IRRSEV        0\n",
      "NACCIDEM      0\n",
      "EPILEP        0\n",
      "MOMOPARK      0\n",
      "PRIMLANG      0\n",
      "APASEV        0\n",
      "CDRLANG       0\n",
      "MEALPREP      0\n",
      "MARISTAT      0\n",
      "SEX           0\n",
      "ALSFIND      13\n",
      "NACCFADM      0\n",
      "NACCMOTF      0\n",
      "MEDS          0\n",
      "APNEA         0\n",
      "NACCLBDE      0\n",
      "DECCLMOT      0\n",
      "ELAT          0\n",
      "ANX           0\n",
      "MOMOALS       0\n",
      "NITESEV       0\n",
      "MOFALLS       0\n",
      "MOMODE        0\n",
      "DISNSEV       0\n",
      "BRADY        13\n",
      "NACCADMU      0\n",
      "CONGHRT       1\n",
      "INKNOWN       0\n",
      "BIPOLDX       0\n",
      "NACCDBMD      0\n",
      "MOT           0\n",
      "HYPERT        1\n",
      "HEARWAID      0\n",
      "LBDEVAL       0\n",
      "DEPOTHR       0\n",
      "APA           0\n",
      "MOGAIT        0\n",
      "VISCORR       0\n",
      "NACCBMI       0\n",
      "APPSEV        0\n",
      "HOMEHOBB      0\n",
      "TAXES         0\n",
      "TRAVEL        0\n",
      "PARK          0\n",
      "ALSAGE        0\n",
      "PACKSPER      0\n",
      "FRSTCHG       0\n",
      "DEP2YRS       0\n",
      "QUITSMOK      0\n",
      "NPSYDEV       0\n",
      "BILLS         0\n",
      "BEOTHR        0\n",
      "TIAMULT       0\n",
      "NACCBVFT      0\n",
      "FTLDMO        0\n",
      "NACCALZP      0\n",
      "HATTMULT      0\n",
      "CVANGIO       0\n",
      "HYPERCHO      0\n",
      "NACCNREX      0\n",
      "ANXSEV        0\n",
      "COGATTN       0\n",
      "B12DEF        0\n",
      "INDEPEND      0\n",
      "BEAGIT        0\n",
      "NACCAGE       0\n",
      "AGITSEV       0\n",
      "NACCMCII      0\n",
      "COGMODE       0\n",
      "NACCLBDP      0\n",
      "COGJUDG       0\n",
      "CVOTHR        0\n",
      "EVENTS        0\n",
      "BPDIAS      389\n",
      "OTHSLEEP      0\n",
      "COGLANG       0\n",
      "CVANGINA      0\n",
      "NACCADMD      0\n",
      "NACCEPMD      0\n",
      "SMOKYRS       0\n",
      "NITE          0\n",
      "DECCLBE       0\n",
      "BEAHALL       0\n",
      "NACCPPAG      0\n",
      "NACCMCIA      0\n",
      "DIABET        1\n",
      "BRNINJ        0\n",
      "DEP           0\n",
      "DECCLCOG      0\n",
      "PARKSIGN     13\n",
      "ARTYPE        1\n",
      "BEAGE         0\n",
      "ARTHRIT       0\n",
      "NACCAPSY      0\n",
      "SCHIZ         0\n",
      "DECSUB        0\n",
      "DECIN         0\n",
      "HEARING       0\n",
      "COGFLUC       0\n",
      "HUNT          0\n",
      "ARTH          1\n",
      "OCD           0\n",
      "POSTCORT     13\n",
      "POSTINST     13\n",
      "PARKAGE       0\n",
      "HYPOSOM       1\n",
      "CDRSUM        0\n",
      "VISWCORR      0\n",
      "DEL           0\n",
      "ABUSOTHR      0\n",
      "NORMCOG       0\n",
      "PSP           0\n",
      "PRION         0\n",
      "INLIVWTH      0\n",
      "STROKMUL      0\n",
      "NACCAAAS      0\n",
      "NACCANGI      0\n",
      "CVDMOTR      13\n",
      "CBSTROKE      0\n",
      "ANYMEDS       0\n",
      "MOAGE         0\n",
      "NACCFTDM      0\n",
      "CORTVISL     13\n",
      "ANGINA        1\n",
      "HVALVE        1\n",
      "JUDGMENT      0\n",
      "NACCADEP      0\n",
      "HEARAID       0\n",
      "NACCAC        0\n",
      "DELSEV        0\n",
      "MSA           0\n",
      "NACCHTNC      0\n",
      "MEMORY        0\n",
      "PSPCBS       13\n",
      "ALCOCCAS      0\n",
      "AMNDEM        0\n",
      "NACCNSD       0\n",
      "PACEMAKE      1\n",
      "CANCER        1\n",
      "REMDIS        1\n",
      "BEVHAGO       0\n",
      "ANXIET        0\n",
      "BEVWELL       0\n",
      "TOBAC30       0\n",
      "DOWNS         0\n",
      "CVHVALVE      0\n",
      "NACCFAM       0\n",
      "CVHATT        0\n",
      "PARKGAIT     13\n",
      "COGOTHR       0\n",
      "HIV           0\n",
      "DELIR         0\n",
      "NACCEMD       0\n",
      "SLEEPAP       1\n",
      "MOSLOW        0\n",
      "RESIDENC      0\n",
      "NACCAHTN      0\n",
      "GAITNPH      13\n",
      "REMDATES      0\n",
      "AFIBRILL      1\n",
      "SOMATL       13\n",
      "PTSD          0\n",
      "COGVIS        0\n",
      "DECAGE        3\n",
      "HYPCHOL       1\n",
      "GAMES         0\n",
      "ALCFREQ       0\n",
      "PERSCARE      0\n",
      "NACCNORM      0\n",
      "NACCCCBS      0\n",
      "VB12DEF       1\n",
      "BEDEL         0\n",
      "DISN          0\n",
      "NACCFFTD      0\n",
      "APP           0\n",
      "CBTIA         0\n",
      "BEREMAGO      0\n",
      "BEVHALL       0\n",
      "dtype: int64\n"
     ]
    }
   ],
   "source": [
    "pd.set_option('display.max_rows', None)  # Show all rows\n",
    "print(df_selected.isnull().sum())\n",
    "pd.reset_option('display.max_rows')      # Reset after if needed\n"
   ]
  },
  {
   "cell_type": "code",
   "execution_count": 87,
   "id": "9301cc52-7153-40ba-a201-f6e720038bb1",
   "metadata": {},
   "outputs": [
    {
     "data": {
      "text/plain": [
       "NACCALZD\n",
       "8    78213\n",
       "1    56592\n",
       "0    26895\n",
       "Name: count, dtype: int64"
      ]
     },
     "execution_count": 87,
     "metadata": {},
     "output_type": "execute_result"
    }
   ],
   "source": [
    "df_selected['NACCALZD'].value_counts()"
   ]
  },
  {
   "cell_type": "code",
   "execution_count": null,
   "id": "38407c04-69d5-4b94-bc28-6aa8af0c94f5",
   "metadata": {},
   "outputs": [],
   "source": []
  }
 ],
 "metadata": {
  "kernelspec": {
   "display_name": "Python 3 (ipykernel)",
   "language": "python",
   "name": "python3"
  },
  "language_info": {
   "codemirror_mode": {
    "name": "ipython",
    "version": 3
   },
   "file_extension": ".py",
   "mimetype": "text/x-python",
   "name": "python",
   "nbconvert_exporter": "python",
   "pygments_lexer": "ipython3",
   "version": "3.11.7"
  }
 },
 "nbformat": 4,
 "nbformat_minor": 5
}
